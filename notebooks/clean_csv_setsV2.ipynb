{
 "cells": [
  {
   "cell_type": "markdown",
   "id": "4b4cf313-7d90-4d69-987f-7bb6a84e6967",
   "metadata": {},
   "source": [
    "# Create new card set\n",
    "\n",
    "Taking output from story engine webapp: https://cardcreator.storyenginedeck.com/\n",
    "\n",
    "and converting it to easier to use csv format for this application"
   ]
  },
  {
   "cell_type": "code",
   "execution_count": 1,
   "id": "424e5af7-f11d-4455-b243-02607b8a2de4",
   "metadata": {},
   "outputs": [],
   "source": [
    "import pandas as pd\n",
    "import numpy as np\n",
    "import re\n",
    "## display options\n",
    "pd.options.display.max_rows = 4000\n",
    "pd.options.display.max_columns = 100\n",
    "pd.set_option('max_colwidth', 100)"
   ]
  },
  {
   "cell_type": "code",
   "execution_count": null,
   "id": "54d21763-be21-4049-b14f-da903ca52cfd",
   "metadata": {},
   "outputs": [],
   "source": []
  },
  {
   "cell_type": "code",
   "execution_count": 2,
   "id": "2209094c-a57b-4e49-bdd7-198d67692fc7",
   "metadata": {},
   "outputs": [],
   "source": [
    "### function that splits data into columns\n",
    "def split_csv_data(df):\n",
    "    df[['type', 'option1','option2','option3', 'option4']] = df['data'].str.split(';',n=4,expand=True)\n",
    "    ## remove extra semicolons from last column\n",
    "    df['option4'] = df['option4'].str.strip(';')\n",
    "    ## drop the data column\n",
    "    df.drop(['data'],axis=1, inplace=True)\n",
    "    return df\n",
    "\n",
    "### makes dataframe/series for each card type\n",
    "# def make_entry_list(df, val_type):\n",
    "#     # filter dataframe by type\n",
    "#     filtered_df = df[df['type'] == val_type]\n",
    "#     vals = pd.concat([filtered_df['option1'], filtered_df['option2'], filtered_df['option3'], filtered_df['option4']], ignore_index=True)\n",
    "#     vals.replace(r'^\\s*$', 'None', regex=True, inplace=True)\n",
    "#     # vals.dropna(how='any',inplace=True)\n",
    "#     return vals\n",
    "\n",
    "def make_entry_list(df, val_type):\n",
    "    filtered_df = df[df['type'] == val_type].drop(['type'], axis = 1)\n",
    "    cols = filtered_df.columns.to_list()\n",
    "\n",
    "    col_df = pd.DataFrame()\n",
    "    col_df = pd.concat([filtered_df[col] for col in cols], ignore_index=True)\n",
    "    col_list = col_df.to_list()\n",
    "    return col_list\n",
    "\n",
    "def fix_agents(agent):\n",
    "    new_agent = re.sub(r'^\\W*\\w+\\W*', '', agent).capitalize()\n",
    "    return new_agent\n",
    "\n",
    "def remove_a(csv_name):\n",
    "    df = pd.read_csv(f'../data/{csv_name}.csv')\n",
    "    df['agent'] = df['agent'].apply(fix_agents)\n",
    "    df.to_csv(fr'../data/{csv_name}.csv', index = False)\n",
    "    return\n",
    "\n",
    "# def create_cleaned_csv(csv_filename, card_set_name):\n",
    "#     features = ['aspect','agent','engine', 'anchor', 'conflict']\n",
    "#     card_set = pd.DataFrame()\n",
    "#     df = pd.read_csv(f'../data/{csv_filename}', names = ['data'])\n",
    "#     df = split_csv_data(df)\n",
    "    \n",
    "#     for feature in features:\n",
    "#         card_set[feature] = make_entry_list(df, feature)\n",
    "        \n",
    "#     card_set.to_csv(f'../data/{card_set_name}.csv', index = False)\n",
    "#     return\n",
    "\n",
    "def create_cleaned_csv(csv_filename, card_set_name):\n",
    "\n",
    "    df = pd.read_csv(f'../data/{csv_filename}', names = ['data'])\n",
    "    df = split_csv_data(df)\n",
    "    features = df['type'].unique().tolist()\n",
    "    \n",
    "    card_set = pd.DataFrame()\n",
    "    col_lists = []\n",
    "\n",
    "    for feature in features:\n",
    "        col_lists.append(make_entry_list(df, feature))\n",
    "        # card_set[feature] = make_entry_list(df, feature)\n",
    "    # col_lists\n",
    "    card_set = pd.DataFrame(col_lists).transpose()\n",
    "    card_set.columns = features\n",
    "    card_set.to_csv(f'../data/{card_set_name}.csv', index = False)\n",
    "\n",
    "    return"
   ]
  },
  {
   "cell_type": "markdown",
   "id": "1e6f1e9f-4bd9-49ee-9153-17a7d0c452c5",
   "metadata": {
    "tags": []
   },
   "source": [
    "### Create Card Sets"
   ]
  },
  {
   "cell_type": "code",
   "execution_count": null,
   "id": "e3e0392c-f9b8-48ca-9f02-66699a8fe916",
   "metadata": {},
   "outputs": [],
   "source": [
    "create_cleaned_csv('sci_fi.csv', 'sci-fi_cards')\n",
    "remove_a('sci-fi_cards')"
   ]
  },
  {
   "cell_type": "code",
   "execution_count": 3,
   "id": "cdbc77a8-1ab5-436d-9ad3-7807ea63a65a",
   "metadata": {},
   "outputs": [],
   "source": [
    "create_cleaned_csv('politics.csv', 'politics_cards')"
   ]
  },
  {
   "cell_type": "code",
   "execution_count": null,
   "id": "06a9ee34-c619-41cc-a9b6-51cabf9e4667",
   "metadata": {},
   "outputs": [],
   "source": [
    "create_cleaned_csv('horror.csv', 'horror_cards')\n",
    "remove_a('horror_cards')"
   ]
  },
  {
   "cell_type": "code",
   "execution_count": null,
   "id": "c7674c85-b619-43e4-803f-cc2609defe4e",
   "metadata": {},
   "outputs": [],
   "source": []
  },
  {
   "cell_type": "markdown",
   "id": "83e3eb83-5ecd-4d25-80ee-0d204d7f2af8",
   "metadata": {
    "tags": []
   },
   "source": [
    "## Testing for Functions"
   ]
  },
  {
   "cell_type": "code",
   "execution_count": null,
   "id": "21bb239b-6ce6-4dfc-ab47-8e8a2c6fdb6d",
   "metadata": {},
   "outputs": [],
   "source": []
  },
  {
   "cell_type": "code",
   "execution_count": null,
   "id": "d4c975ea-c477-4b64-b58a-7336e9e5d7cd",
   "metadata": {},
   "outputs": [],
   "source": [
    "politics = pd.DataFrame()\n",
    "# features = ['aspect','agent','engine', 'anchor', 'conflict'] ## using this one filters by aspect. WTF?\n",
    "features = ['agent','aspect','engine', 'anchor', 'conflict']  \n",
    "### read in data\n",
    "pol = pd.read_csv('../data/politics.csv', names=['data'])\n",
    "\n",
    "pol = split_csv_data(pol)  ### this part is fine, not losing shit here\n",
    "\n",
    "for feature in features:\n",
    "    politics[feature] = make_entry_list(pol, feature) ## issue has to be in this function.\n",
    "    \n",
    "politics = politics[['aspect','agent','engine', 'anchor', 'conflict']]\n",
    "politics.to_csv(r'../data/politics_cards.csv', index = False)"
   ]
  },
  {
   "cell_type": "code",
   "execution_count": null,
   "id": "2a96774d-0f73-4970-a835-bc5ba3852222",
   "metadata": {},
   "outputs": [],
   "source": [
    "# politics\n",
    "features = pol['type'].unique().tolist()"
   ]
  },
  {
   "cell_type": "code",
   "execution_count": null,
   "id": "3bf6fd09-3edb-4d52-aecd-2996f934936b",
   "metadata": {},
   "outputs": [],
   "source": [
    "features"
   ]
  },
  {
   "cell_type": "markdown",
   "id": "9f93c7c4-0d8c-4176-8c9c-9809b213e348",
   "metadata": {
    "tags": []
   },
   "source": [
    "## Write full function to clean a csv"
   ]
  },
  {
   "cell_type": "code",
   "execution_count": null,
   "id": "46fe8092-ec24-4ab7-95e2-9504c1e196b4",
   "metadata": {},
   "outputs": [],
   "source": [
    "csv_filename = 'sci_fi.csv'\n",
    "card_set_name = 'sci-fi_cards'\n",
    "features = ['agent', 'aspect', 'engine', 'anchor', 'conflict']\n",
    "card_set = pd.DataFrame()\n",
    "df = pd.read_csv(f'../data/{csv_filename}', names = ['data'])\n",
    "df = split_csv_data(df)\n",
    "# df\n",
    "# for feature in features:\n",
    "#     card_set[feature] = make_entry_list(df, feature)\n",
    "\n",
    "# card_set.to_csv(f'../data/{card_set_name}.csv', index = False)\n"
   ]
  },
  {
   "cell_type": "code",
   "execution_count": null,
   "id": "7e1ea7f6-d533-4430-a2fd-bf1d9ee164a7",
   "metadata": {},
   "outputs": [],
   "source": [
    "def create_cleaned_csv(csv_filename, card_set_name):\n",
    "    features = ['aspect','agent','engine', 'anchor', 'conflict']\n",
    "    card_set = pd.DataFrame()\n",
    "    df = pd.read_csv(f'../data/{csv_filename}', names = ['data'])\n",
    "    df = split_csv_data(df)\n",
    "    \n",
    "    for feature in features:\n",
    "        card_set[feature] = make_entry_list(df, feature)\n",
    "        \n",
    "    card_set.to_csv(f'../data/{card_set_name}.csv', index = False)\n",
    "    return"
   ]
  },
  {
   "cell_type": "code",
   "execution_count": null,
   "id": "7cd51212-774c-4729-8e23-658f05eb6d18",
   "metadata": {},
   "outputs": [],
   "source": [
    "\n",
    "create_cleaned_csv('sci_fi.csv', 'sci-fi_cards')"
   ]
  },
  {
   "cell_type": "markdown",
   "id": "95c8cee9-d0ce-49bc-b8e0-507dfea88ee0",
   "metadata": {
    "jp-MarkdownHeadingCollapsed": true,
    "tags": []
   },
   "source": [
    "### Now read in csv as if we started with it\n",
    "\n",
    "We need to import CSV, create entry lists with no NaN's, and then create a dict of dataframes to store each card type for use with the other functions we made."
   ]
  },
  {
   "cell_type": "code",
   "execution_count": null,
   "id": "26521746-fb5c-4145-994c-6d6a0c4401d1",
   "metadata": {},
   "outputs": [],
   "source": [
    "df = pd.read_csv('../data/politics_cards.csv')"
   ]
  },
  {
   "cell_type": "code",
   "execution_count": null,
   "id": "ffee864d-8cc5-403d-a855-a478fe5a90ad",
   "metadata": {},
   "outputs": [],
   "source": [
    "# df['anchor']"
   ]
  },
  {
   "cell_type": "code",
   "execution_count": null,
   "id": "4aae996e-c7c7-4d14-af7e-72ebd4633cb1",
   "metadata": {},
   "outputs": [],
   "source": [
    "# df\n",
    "df_dict = {}\n",
    "card_types = features\n",
    "for card_type in card_types:\n",
    "    values = df[card_type]\n",
    "    values.dropna(how='any',inplace=True)\n",
    "    df_dict[card_type] = values"
   ]
  },
  {
   "cell_type": "code",
   "execution_count": null,
   "id": "ba805173-345c-4955-8c82-d2ee4cba9b6d",
   "metadata": {},
   "outputs": [],
   "source": [
    "card_set = {}\n",
    "for card_type in card_types:\n",
    "    card_set[card_type] = df[card_type].dropna(how='any')"
   ]
  },
  {
   "cell_type": "code",
   "execution_count": null,
   "id": "676f5d94-7857-4c09-99f3-f5baca56a449",
   "metadata": {},
   "outputs": [],
   "source": [
    "# card_set"
   ]
  },
  {
   "cell_type": "code",
   "execution_count": null,
   "id": "f52188ad-ce85-4152-a0a9-1f4bc2db5291",
   "metadata": {},
   "outputs": [],
   "source": [
    "def create_card_database(card_set_name):\n",
    "    ### create dict of cardtypes for given cardset\n",
    "    df = pd.read_csv(f'../data/{card_set_name}.csv')\n",
    "    card_set = {}\n",
    "    card_types = df.columns.to_list()\n",
    "    for card_type in card_types:\n",
    "        card_set[card_type] = df[card_type].dropna(how = 'any')\n",
    "    return card_set"
   ]
  },
  {
   "cell_type": "code",
   "execution_count": null,
   "id": "61c58d90-ef8a-4ab6-94fa-62544c8626ca",
   "metadata": {},
   "outputs": [],
   "source": [
    "# create_card_database('sci-fi_cards')"
   ]
  },
  {
   "cell_type": "markdown",
   "id": "78bc7ef4-fa2a-4c6b-8172-94b72b7a1d5b",
   "metadata": {
    "jp-MarkdownHeadingCollapsed": true,
    "tags": []
   },
   "source": [
    "## Get rid of A/An in sci-fi list"
   ]
  },
  {
   "cell_type": "code",
   "execution_count": null,
   "id": "9c6034bb-5c65-4492-8941-a15d0ad26346",
   "metadata": {},
   "outputs": [],
   "source": [
    "import re\n",
    "sf = pd.read_csv('../data/sci-fi_cards.csv')"
   ]
  },
  {
   "cell_type": "code",
   "execution_count": null,
   "id": "60f0fea8-71f7-4ecc-bf12-ae6dc5805f95",
   "metadata": {},
   "outputs": [],
   "source": [
    "def fix_agents(agent):\n",
    "    new_agent = re.sub(r'^\\W*\\w+\\W*', '', agent).capitalize()\n",
    "    return new_agent\n",
    "\n",
    "def fix_sci_fi():\n",
    "    sf = pd.read_csv('../data/sci-fi_cards.csv')\n",
    "    sf['agent'] = sf['agent'].apply(fix_agents)\n",
    "    sf.to_csv(r'../data/sci-fi_cards.csv', index = False)\n",
    "    return"
   ]
  },
  {
   "cell_type": "code",
   "execution_count": null,
   "id": "d0eb9347-0b13-455e-8183-ef887e80a985",
   "metadata": {},
   "outputs": [],
   "source": [
    "text = sf['agent'].sample().to_string(index = False)\n",
    "\n",
    "re.sub(r'^\\W*\\w+\\W*', '', text).capitalize()"
   ]
  },
  {
   "cell_type": "code",
   "execution_count": null,
   "id": "65530c58-cc49-4d2c-9d77-1e47ed6c6be5",
   "metadata": {},
   "outputs": [],
   "source": [
    "for agent in sf['agent']:\n",
    "    text = agent\n",
    "    re.sub(r'^\\W*\\w+\\W*', '', text).capitalize()"
   ]
  },
  {
   "cell_type": "code",
   "execution_count": null,
   "id": "ba51b580-9b4c-4359-bd7b-c23c6d95d99a",
   "metadata": {},
   "outputs": [],
   "source": [
    "def fix_agents(agent):\n",
    "    new_agent = re.sub(r'^\\W*\\w+\\W*', '', agent).capitalize()\n",
    "    return new_agent\n",
    "\n",
    "sf['agent'] = sf['agent'].apply(fix_agents)"
   ]
  },
  {
   "cell_type": "code",
   "execution_count": null,
   "id": "0a177dbf-88e6-4ab6-b5f6-9b71022e6530",
   "metadata": {},
   "outputs": [],
   "source": [
    "sf.to_csv(r'../data/sci-fi_cards.csv', index = False)"
   ]
  },
  {
   "cell_type": "code",
   "execution_count": null,
   "id": "9f400fa6-d2af-45b3-b711-44f036ca3433",
   "metadata": {},
   "outputs": [],
   "source": [
    "flist = sf.columns.to_list()"
   ]
  },
  {
   "cell_type": "code",
   "execution_count": null,
   "id": "3b75d9ca-e917-4935-a9df-e496dd78d66e",
   "metadata": {},
   "outputs": [],
   "source": [
    "flist"
   ]
  },
  {
   "cell_type": "markdown",
   "id": "aa0c07b6-4dba-4bd0-9f12-190c88c7969c",
   "metadata": {},
   "source": [
    "## Fixing csv functions"
   ]
  },
  {
   "cell_type": "code",
   "execution_count": null,
   "id": "309e8172-4e8f-4730-9235-8cc7eecb9175",
   "metadata": {},
   "outputs": [],
   "source": []
  },
  {
   "cell_type": "code",
   "execution_count": null,
   "id": "400ed2e3-1957-426b-930f-01732d7d7ab6",
   "metadata": {},
   "outputs": [],
   "source": [
    "csv_filename = 'politics.csv'\n",
    "df = pd.read_csv(f'../data/{csv_filename}', names = ['data'])\n",
    "df = split_csv_data(df)"
   ]
  },
  {
   "cell_type": "code",
   "execution_count": null,
   "id": "844de436-39cd-4fe1-92d3-6056e91eb056",
   "metadata": {},
   "outputs": [],
   "source": []
  },
  {
   "cell_type": "code",
   "execution_count": null,
   "id": "e9693aa4-14d0-4bb3-94b6-77d245564ed4",
   "metadata": {},
   "outputs": [],
   "source": [
    "# df"
   ]
  },
  {
   "cell_type": "code",
   "execution_count": null,
   "id": "4a7c6177-d0f3-4512-9677-b833521193ad",
   "metadata": {},
   "outputs": [],
   "source": [
    "### make_entry_list function\n",
    "def make_entry_list2(df, val_type):\n",
    "    # val_type = 'agent'\n",
    "    # filter dataframe by type\n",
    "    filtered_df = df[df['type'] == val_type].drop(['type'], axis = 1)\n",
    "    cols = filtered_df.columns.to_list()\n",
    "\n",
    "    col_df = pd.DataFrame()\n",
    "    col_df = pd.concat([filtered_df[col] for col in cols], ignore_index=True)\n",
    "    col_list = col_df.to_list()\n",
    "    return col_list"
   ]
  },
  {
   "cell_type": "code",
   "execution_count": null,
   "id": "0cb7955f-4f24-4456-b258-729ff4527d1f",
   "metadata": {},
   "outputs": [],
   "source": [
    "# col_df\n",
    "# col_list"
   ]
  },
  {
   "cell_type": "code",
   "execution_count": null,
   "id": "5b4f8967-3f90-4073-a96f-88e7c93643f1",
   "metadata": {},
   "outputs": [],
   "source": []
  },
  {
   "cell_type": "code",
   "execution_count": null,
   "id": "b11e151d-dc47-4efa-93f1-edfbe67dd825",
   "metadata": {},
   "outputs": [],
   "source": []
  },
  {
   "cell_type": "code",
   "execution_count": null,
   "id": "939c36ae-7bc7-4eea-a6bd-25c3e2d20a2d",
   "metadata": {},
   "outputs": [],
   "source": [
    "# vals.to_list()"
   ]
  },
  {
   "cell_type": "code",
   "execution_count": null,
   "id": "94ac934d-8d63-4104-ba05-4bc36f10d251",
   "metadata": {},
   "outputs": [],
   "source": [
    "csv_filename = 'politics.csv'\n",
    "card_set_name = 'politics_cards'\n",
    "df = pd.read_csv(f'../data/{csv_filename}', names = ['data'])\n",
    "\n",
    "card_set = pd.DataFrame()\n",
    "\n",
    "df = split_csv_data(df)\n",
    "features = df['type'].unique().tolist()\n",
    "col_lists = []\n",
    "\n",
    "for feature in features:\n",
    "    col_lists.append(make_entry_list2(df, feature))\n",
    "    # card_set[feature] = make_entry_list(df, feature)\n",
    "# col_lists\n",
    "card_set = pd.DataFrame(col_lists).transpose()\n",
    "card_set.columns = features\n",
    "card_set.to_csv(f'../data/{card_set_name}.csv', index = False)"
   ]
  },
  {
   "cell_type": "code",
   "execution_count": null,
   "id": "67f207fc-004f-46bc-8039-0b9a99198064",
   "metadata": {},
   "outputs": [],
   "source": [
    "df2 = pd.DataFrame(col_lists).transpose()\n",
    "df2.columns = features"
   ]
  },
  {
   "cell_type": "code",
   "execution_count": null,
   "id": "69f86fa8-3c11-4cfb-9381-3ccfd520823b",
   "metadata": {},
   "outputs": [],
   "source": [
    "card_set"
   ]
  },
  {
   "cell_type": "code",
   "execution_count": null,
   "id": "3e984637-fb78-4b5d-b1ad-d97e344e3039",
   "metadata": {},
   "outputs": [],
   "source": []
  }
 ],
 "metadata": {
  "kernelspec": {
   "display_name": "Python 3 (ipykernel)",
   "language": "python",
   "name": "python3"
  },
  "language_info": {
   "codemirror_mode": {
    "name": "ipython",
    "version": 3
   },
   "file_extension": ".py",
   "mimetype": "text/x-python",
   "name": "python",
   "nbconvert_exporter": "python",
   "pygments_lexer": "ipython3",
   "version": "3.9.2"
  }
 },
 "nbformat": 4,
 "nbformat_minor": 5
}

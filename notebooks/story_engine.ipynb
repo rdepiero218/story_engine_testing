{
 "cells": [
  {
   "cell_type": "markdown",
   "id": "9d4251fb-60a0-4f1d-90a0-91c351fa4684",
   "metadata": {},
   "source": [
    "# Story Engine App Testing"
   ]
  },
  {
   "cell_type": "code",
   "execution_count": 2,
   "id": "234af837-5c11-4591-a088-ebc94fdc105e",
   "metadata": {},
   "outputs": [],
   "source": [
    "import pandas as pd\n",
    "import numpy as np\n",
    "\n",
    "## display options\n",
    "pd.options.display.max_rows = 4000\n",
    "pd.options.display.max_columns = 100\n",
    "pd.set_option('max_colwidth', 100)"
   ]
  },
  {
   "cell_type": "code",
   "execution_count": null,
   "id": "69a119aa-ccf3-4059-aaa1-3562ff436ed4",
   "metadata": {},
   "outputs": [],
   "source": []
  },
  {
   "cell_type": "code",
   "execution_count": 10,
   "id": "801614f2-b008-416a-b684-fde9744921aa",
   "metadata": {},
   "outputs": [],
   "source": [
    "def create_card_database(card_set_name, engine_type):\n",
    "    ### create dict of cardtypes for given cardset\n",
    "    df = pd.read_csv(f'../data/{card_set_name}.csv')\n",
    "    if engine_type =='world':\n",
    "        df = df[['region','landmark','origin', 'namesake', 'attribute', 'advent']]\n",
    "    else:\n",
    "        df = df[['aspect','agent','engine', 'anchor', 'conflict']]\n",
    "        \n",
    "    card_set = {}\n",
    "    card_types = df.columns.to_list()\n",
    "    for card_type in card_types:\n",
    "        card_set[card_type] = df[card_type].dropna(how = 'any')\n",
    "    return card_set\n",
    "\n",
    "def get_card_stack(card_set, printer=False):\n",
    "    card_stack = {}\n",
    "    for card_type in card_set:\n",
    "        card_stack[card_type] = card_set[card_type].sample().to_string(index=False)\n",
    "    if printer:\n",
    "        for card_type in card_stack:\n",
    "            print('Your %s:  %s'%(card_type, card_stack[card_type]))\n",
    "    return card_stack\n",
    "\n",
    "def get_batch_cards(n, card_set, printer=False):\n",
    "    card_batch = []\n",
    "    for card_stack in range(0,n):\n",
    "        card_batch.append(get_card_stack(card_set))\n",
    "        \n",
    "    if printer:\n",
    "        for card_stack in range(0,len(card_batch)):\n",
    "            print('---------------')\n",
    "            print('Card Stack %d'%(card_stack+1))\n",
    "            print('---------------')\n",
    "            for key in card_batch[card_stack].keys():\n",
    "                print('Your %s: %s'%(key, card_batch[card_stack][key]))\n",
    "    return card_batch\n",
    "\n",
    "def card_set_tofile(card_batch, filename):\n",
    "    card_set = open(fr'./{filename}.txt','w')\n",
    "    \n",
    "    for card_stack in range(0,len(card_batch)):\n",
    "            card_set.write('---------------\\n')\n",
    "            card_set.write('Card Stack %d\\n'%(card_stack+1))\n",
    "            card_set.write('---------------\\n')\n",
    "            for key in card_batch[card_stack].keys():\n",
    "                card_set.write('Your %s: %s\\n'%(key, card_batch[card_stack][key]))\n",
    "    card_set.close()\n",
    "\n",
    "    return\n",
    "\n",
    "def generate_card_batch_file(choice, n_stacks, filename, engine_type):\n",
    "    ## create card set database\n",
    "    card_set = create_card_database(choice, engine_type)\n",
    "    ## generate a batch of card stacks\n",
    "    card_batch = get_batch_cards(n_stacks, card_set)\n",
    "    ## write card batch to text file\n",
    "    card_set_tofile(card_batch, filename)\n",
    "    return"
   ]
  },
  {
   "cell_type": "markdown",
   "id": "6d77df9c-f560-4ac4-ad19-6c4021adb442",
   "metadata": {},
   "source": [
    "### Generate a batch of Cards"
   ]
  },
  {
   "cell_type": "code",
   "execution_count": 10,
   "id": "9e636016-2717-4c16-aea1-b45117af31e3",
   "metadata": {},
   "outputs": [],
   "source": [
    "# Choose a cardset\n",
    "# choice = 'sci-fi_cards'\n",
    "# choice = 'politics_cards'\n",
    "choice = 'horror_cards'\n",
    "card_set = create_card_database(choice)"
   ]
  },
  {
   "cell_type": "code",
   "execution_count": 11,
   "id": "84cb2e3e-50fa-4c81-a500-2f78b3ff2efb",
   "metadata": {},
   "outputs": [],
   "source": [
    "# Create a card batch\n",
    "num_batches = 4\n",
    "card_batch = get_batch_cards(num_batches, card_set)"
   ]
  },
  {
   "cell_type": "code",
   "execution_count": 12,
   "id": "e7b918c4-1ec0-4da2-bb57-0a46dd2e6472",
   "metadata": {},
   "outputs": [],
   "source": [
    "## Write card batch to text file\n",
    "file_name = 'horror-test'\n",
    "card_set_tofile(card_batch, file_name)"
   ]
  },
  {
   "cell_type": "code",
   "execution_count": null,
   "id": "768fd047-0e26-4883-ac39-c3bea7d7ea54",
   "metadata": {},
   "outputs": [],
   "source": []
  },
  {
   "cell_type": "code",
   "execution_count": 18,
   "id": "b11e0384-dda0-4959-8ca1-e8816300f8a0",
   "metadata": {},
   "outputs": [],
   "source": [
    "choice = 'sci-fi_cards'\n",
    "n_stacks = 3\n",
    "filename = 'sci-fi_test'\n",
    "generate_card_batch_file(choice, n_stacks, filename)"
   ]
  },
  {
   "cell_type": "code",
   "execution_count": 11,
   "id": "033d8eaf-039b-476b-a121-cd02c2a663cd",
   "metadata": {},
   "outputs": [],
   "source": [
    "engine_type = 'story'\n",
    "choice = 'politics_cards'\n",
    "n_stacks = 2\n",
    "filename = 'politics_test'\n",
    "generate_card_batch_file(choice, n_stacks, filename, engine_type)"
   ]
  },
  {
   "cell_type": "code",
   "execution_count": null,
   "id": "7b5416a2-7503-4cb5-8e02-617fa12947df",
   "metadata": {},
   "outputs": [],
   "source": []
  }
 ],
 "metadata": {
  "kernelspec": {
   "display_name": "Python 3 (ipykernel)",
   "language": "python",
   "name": "python3"
  },
  "language_info": {
   "codemirror_mode": {
    "name": "ipython",
    "version": 3
   },
   "file_extension": ".py",
   "mimetype": "text/x-python",
   "name": "python",
   "nbconvert_exporter": "python",
   "pygments_lexer": "ipython3",
   "version": "3.9.2"
  }
 },
 "nbformat": 4,
 "nbformat_minor": 5
}

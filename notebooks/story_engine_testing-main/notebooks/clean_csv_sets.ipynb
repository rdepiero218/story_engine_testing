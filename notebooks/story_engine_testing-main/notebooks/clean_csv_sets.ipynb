{
 "cells": [
  {
   "cell_type": "markdown",
   "id": "4b4cf313-7d90-4d69-987f-7bb6a84e6967",
   "metadata": {},
   "source": [
    "# Create new card set\n",
    "\n",
    "Taking output from story engine webapp: https://cardcreator.storyenginedeck.com/\n",
    "\n",
    "and converting it to easier to use csv format for this application"
   ]
  },
  {
   "cell_type": "code",
   "execution_count": 17,
   "id": "424e5af7-f11d-4455-b243-02607b8a2de4",
   "metadata": {},
   "outputs": [],
   "source": [
    "import pandas as pd\n",
    "import numpy as np\n",
    "import re\n",
    "## display options\n",
    "pd.options.display.max_rows = 4000\n",
    "pd.options.display.max_columns = 100\n",
    "pd.set_option('max_colwidth', 100)"
   ]
  },
  {
   "cell_type": "code",
   "execution_count": null,
   "id": "54d21763-be21-4049-b14f-da903ca52cfd",
   "metadata": {},
   "outputs": [],
   "source": []
  },
  {
   "cell_type": "code",
   "execution_count": 18,
   "id": "2209094c-a57b-4e49-bdd7-198d67692fc7",
   "metadata": {},
   "outputs": [],
   "source": [
    "### function that splits data into columns\n",
    "def split_csv_data(df):\n",
    "    df[['type', 'option1','option2','option3', 'option4']] = df['data'].str.split(';',n=4,expand=True)\n",
    "    ## remove extra semicolons from last column\n",
    "    df['option4'] = df['option4'].str.strip(';')\n",
    "    ## drop the data column\n",
    "    df.drop(['data'],axis=1, inplace=True)\n",
    "    return df\n",
    "\n",
    "### makes dataframe/series for each card type\n",
    "def make_entry_list(df, val_type):\n",
    "    # filter dataframe by type\n",
    "    filtered_df = df[df['type'] == val_type]\n",
    "    vals = pd.concat([filtered_df['option1'], filtered_df['option2'], filtered_df['option3'], filtered_df['option4']], ignore_index=True)\n",
    "    vals.replace(r'^\\s*$', np.nan, regex=True, inplace=True)\n",
    "    # vals.dropna(how='any',inplace=True)\n",
    "    return vals\n",
    "\n",
    "def fix_agents(agent):\n",
    "    new_agent = re.sub(r'^\\W*\\w+\\W*', '', agent).capitalize()\n",
    "    return new_agent\n",
    "\n",
    "def remove_a(csv_name):\n",
    "    df = pd.read_csv(f'../data/{csv_name}.csv')\n",
    "    df['agent'] = df['agent'].apply(fix_agents)\n",
    "    df.to_csv(fr'../data/{csv_name}.csv', index = False)\n",
    "    return\n",
    "\n",
    "def create_cleaned_csv(csv_filename, card_set_name):\n",
    "    features = ['aspect','agent','engine', 'anchor', 'conflict']\n",
    "    card_set = pd.DataFrame()\n",
    "    df = pd.read_csv(f'../data/{csv_filename}', names = ['data'])\n",
    "    df = split_csv_data(df)\n",
    "    \n",
    "    for feature in features:\n",
    "        card_set[feature] = make_entry_list(df, feature)\n",
    "        \n",
    "    card_set.to_csv(f'../data/{card_set_name}.csv', index = False)\n",
    "    return"
   ]
  },
  {
   "cell_type": "markdown",
   "id": "1e6f1e9f-4bd9-49ee-9153-17a7d0c452c5",
   "metadata": {},
   "source": [
    "### Create Card Sets"
   ]
  },
  {
   "cell_type": "code",
   "execution_count": 79,
   "id": "e3e0392c-f9b8-48ca-9f02-66699a8fe916",
   "metadata": {},
   "outputs": [],
   "source": [
    "create_cleaned_csv('sci_fi.csv', 'sci-fi_cards')\n",
    "fix_sci_fi()"
   ]
  },
  {
   "cell_type": "code",
   "execution_count": 82,
   "id": "cdbc77a8-1ab5-436d-9ad3-7807ea63a65a",
   "metadata": {},
   "outputs": [],
   "source": [
    "create_cleaned_csv('politics.csv', 'politics_cards')"
   ]
  },
  {
   "cell_type": "code",
   "execution_count": 14,
   "id": "06a9ee34-c619-41cc-a9b6-51cabf9e4667",
   "metadata": {},
   "outputs": [],
   "source": [
    "create_cleaned_csv('horror.csv', 'horror_cards')"
   ]
  },
  {
   "cell_type": "code",
   "execution_count": 19,
   "id": "c7674c85-b619-43e4-803f-cc2609defe4e",
   "metadata": {},
   "outputs": [],
   "source": [
    "remove_a('horror_cards')"
   ]
  },
  {
   "cell_type": "markdown",
   "id": "83e3eb83-5ecd-4d25-80ee-0d204d7f2af8",
   "metadata": {},
   "source": [
    "## Testing for Functions"
   ]
  },
  {
   "cell_type": "code",
   "execution_count": null,
   "id": "21bb239b-6ce6-4dfc-ab47-8e8a2c6fdb6d",
   "metadata": {},
   "outputs": [],
   "source": []
  },
  {
   "cell_type": "code",
   "execution_count": 87,
   "id": "d4c975ea-c477-4b64-b58a-7336e9e5d7cd",
   "metadata": {},
   "outputs": [],
   "source": [
    "politics = pd.DataFrame()\n",
    "features = ['agent', 'aspect', 'engine', 'anchor', 'conflict']\n",
    "### read in data\n",
    "pol = pd.read_csv('../data/politics.csv', names=['data'])\n",
    "\n",
    "pol = split_csv_data(pol)\n",
    "\n",
    "for feature in features:\n",
    "    politics[feature] = make_entry_list(pol, feature)\n",
    "    \n",
    "politics\n",
    "\n",
    "politics.to_csv(r'../data/politics_cards.csv', index = False)"
   ]
  },
  {
   "cell_type": "code",
   "execution_count": 84,
   "id": "2a96774d-0f73-4970-a835-bc5ba3852222",
   "metadata": {},
   "outputs": [
    {
     "data": {
      "text/html": [
       "<div>\n",
       "<style scoped>\n",
       "    .dataframe tbody tr th:only-of-type {\n",
       "        vertical-align: middle;\n",
       "    }\n",
       "\n",
       "    .dataframe tbody tr th {\n",
       "        vertical-align: top;\n",
       "    }\n",
       "\n",
       "    .dataframe thead th {\n",
       "        text-align: right;\n",
       "    }\n",
       "</style>\n",
       "<table border=\"1\" class=\"dataframe\">\n",
       "  <thead>\n",
       "    <tr style=\"text-align: right;\">\n",
       "      <th></th>\n",
       "      <th>aspect</th>\n",
       "      <th>agent</th>\n",
       "      <th>engine</th>\n",
       "      <th>anchor</th>\n",
       "      <th>conflict</th>\n",
       "    </tr>\n",
       "  </thead>\n",
       "  <tbody>\n",
       "    <tr>\n",
       "      <th>0</th>\n",
       "      <td>Government-Funded</td>\n",
       "      <td>Governor</td>\n",
       "      <td>Wants to become the dominant party with</td>\n",
       "      <td>Washington DC</td>\n",
       "      <td>But it will cost them the election</td>\n",
       "    </tr>\n",
       "    <tr>\n",
       "      <th>1</th>\n",
       "      <td>Deputized</td>\n",
       "      <td>Mayor</td>\n",
       "      <td>Wants to tip the balance of power with</td>\n",
       "      <td>Big City</td>\n",
       "      <td>But history will see them as a villain</td>\n",
       "    </tr>\n",
       "    <tr>\n",
       "      <th>2</th>\n",
       "      <td>Partisan</td>\n",
       "      <td>Insider</td>\n",
       "      <td>Wants to stop a destructive agenda with</td>\n",
       "      <td>A rival nation</td>\n",
       "      <td>But it will end their career</td>\n",
       "    </tr>\n",
       "    <tr>\n",
       "      <th>3</th>\n",
       "      <td>Rigged</td>\n",
       "      <td>Analyst</td>\n",
       "      <td>Wants to blow the whistle on/with</td>\n",
       "      <td>A dossier</td>\n",
       "      <td>But it will undermine their own political agenda</td>\n",
       "    </tr>\n",
       "    <tr>\n",
       "      <th>4</th>\n",
       "      <td>Poorly Funded</td>\n",
       "      <td>Propagandist</td>\n",
       "      <td>Wants to escape from/with</td>\n",
       "      <td>A top secret program</td>\n",
       "      <td>But they will discover a horrifying truth about their allies</td>\n",
       "    </tr>\n",
       "    <tr>\n",
       "      <th>5</th>\n",
       "      <td>Researched</td>\n",
       "      <td>Company Spokesman</td>\n",
       "      <td>Wants to root out corruption with/on</td>\n",
       "      <td>A CIA black site</td>\n",
       "      <td>But bureaucracy will hold them back</td>\n",
       "    </tr>\n",
       "    <tr>\n",
       "      <th>6</th>\n",
       "      <td>Highly political</td>\n",
       "      <td>Black Ops Agent</td>\n",
       "      <td>Wants to bribe with/about</td>\n",
       "      <td>An innocent bystander</td>\n",
       "      <td>But they will fail someone relying on them</td>\n",
       "    </tr>\n",
       "    <tr>\n",
       "      <th>7</th>\n",
       "      <td>Buried</td>\n",
       "      <td>Fixer</td>\n",
       "      <td>Wants to relinquish control of their party with</td>\n",
       "      <td>Capitol Hill</td>\n",
       "      <td>But the opposing party will come into power</td>\n",
       "    </tr>\n",
       "    <tr>\n",
       "      <th>8</th>\n",
       "      <td>State-Funded</td>\n",
       "      <td>Judge</td>\n",
       "      <td>Wants to restore the balance of power with</td>\n",
       "      <td>Small Town</td>\n",
       "      <td>But history will see them as a failure</td>\n",
       "    </tr>\n",
       "    <tr>\n",
       "      <th>9</th>\n",
       "      <td>Commissioned</td>\n",
       "      <td>Warlord</td>\n",
       "      <td>Wants to push an aggressive agenda with</td>\n",
       "      <td>An allied nation</td>\n",
       "      <td>But it will end the career of a trusted ally</td>\n",
       "    </tr>\n",
       "    <tr>\n",
       "      <th>10</th>\n",
       "      <td>Apolitical</td>\n",
       "      <td>Senator</td>\n",
       "      <td>Wants to protect a policy about/with</td>\n",
       "      <td>A list of names</td>\n",
       "      <td>But it will destroy their belief in their own political party</td>\n",
       "    </tr>\n",
       "    <tr>\n",
       "      <th>11</th>\n",
       "      <td>Compromised</td>\n",
       "      <td>Selectman</td>\n",
       "      <td>Wants to expose a coverup about</td>\n",
       "      <td>A Senate investigation</td>\n",
       "      <td>But they will prove their enemies were right</td>\n",
       "    </tr>\n",
       "    <tr>\n",
       "      <th>12</th>\n",
       "      <td>Well-Funded</td>\n",
       "      <td>Whistleblower</td>\n",
       "      <td>Wants to pass an bill on/with</td>\n",
       "      <td>A secret prison</td>\n",
       "      <td>But the system will treat them unjustly</td>\n",
       "    </tr>\n",
       "    <tr>\n",
       "      <th>13</th>\n",
       "      <td>Hired</td>\n",
       "      <td>Handler</td>\n",
       "      <td>Is being bribed with/about</td>\n",
       "      <td>A puppet master</td>\n",
       "      <td>But they will make a steep political compromise</td>\n",
       "    </tr>\n",
       "    <tr>\n",
       "      <th>14</th>\n",
       "      <td>Non-partisan</td>\n",
       "      <td>Lobbyist</td>\n",
       "      <td>NaN</td>\n",
       "      <td>The White House</td>\n",
       "      <td>NaN</td>\n",
       "    </tr>\n",
       "    <tr>\n",
       "      <th>15</th>\n",
       "      <td>Tarnished</td>\n",
       "      <td>PR Consultant</td>\n",
       "      <td>NaN</td>\n",
       "      <td>Rural Region</td>\n",
       "      <td>NaN</td>\n",
       "    </tr>\n",
       "  </tbody>\n",
       "</table>\n",
       "</div>"
      ],
      "text/plain": [
       "               aspect              agent  \\\n",
       "0   Government-Funded           Governor   \n",
       "1           Deputized              Mayor   \n",
       "2            Partisan            Insider   \n",
       "3              Rigged            Analyst   \n",
       "4       Poorly Funded       Propagandist   \n",
       "5          Researched  Company Spokesman   \n",
       "6    Highly political    Black Ops Agent   \n",
       "7              Buried              Fixer   \n",
       "8        State-Funded              Judge   \n",
       "9        Commissioned            Warlord   \n",
       "10         Apolitical            Senator   \n",
       "11        Compromised          Selectman   \n",
       "12        Well-Funded      Whistleblower   \n",
       "13              Hired            Handler   \n",
       "14       Non-partisan           Lobbyist   \n",
       "15          Tarnished      PR Consultant   \n",
       "\n",
       "                                             engine                  anchor  \\\n",
       "0           Wants to become the dominant party with           Washington DC   \n",
       "1            Wants to tip the balance of power with                Big City   \n",
       "2           Wants to stop a destructive agenda with          A rival nation   \n",
       "3                 Wants to blow the whistle on/with               A dossier   \n",
       "4                         Wants to escape from/with    A top secret program   \n",
       "5              Wants to root out corruption with/on        A CIA black site   \n",
       "6                         Wants to bribe with/about   An innocent bystander   \n",
       "7   Wants to relinquish control of their party with            Capitol Hill   \n",
       "8        Wants to restore the balance of power with              Small Town   \n",
       "9           Wants to push an aggressive agenda with        An allied nation   \n",
       "10             Wants to protect a policy about/with         A list of names   \n",
       "11                  Wants to expose a coverup about  A Senate investigation   \n",
       "12                    Wants to pass an bill on/with         A secret prison   \n",
       "13                       Is being bribed with/about         A puppet master   \n",
       "14                                              NaN         The White House   \n",
       "15                                              NaN            Rural Region   \n",
       "\n",
       "                                                         conflict  \n",
       "0                              But it will cost them the election  \n",
       "1                          But history will see them as a villain  \n",
       "2                                    But it will end their career  \n",
       "3                But it will undermine their own political agenda  \n",
       "4    But they will discover a horrifying truth about their allies  \n",
       "5                             But bureaucracy will hold them back  \n",
       "6                      But they will fail someone relying on them  \n",
       "7                     But the opposing party will come into power  \n",
       "8                          But history will see them as a failure  \n",
       "9                    But it will end the career of a trusted ally  \n",
       "10  But it will destroy their belief in their own political party  \n",
       "11                   But they will prove their enemies were right  \n",
       "12                        But the system will treat them unjustly  \n",
       "13                But they will make a steep political compromise  \n",
       "14                                                            NaN  \n",
       "15                                                            NaN  "
      ]
     },
     "execution_count": 86,
     "metadata": {},
     "output_type": "execute_result"
    }
   ],
   "source": [
    "politics"
   ]
  },
  {
   "cell_type": "code",
   "execution_count": 38,
   "id": "46fe8092-ec24-4ab7-95e2-9504c1e196b4",
   "metadata": {},
   "outputs": [],
   "source": [
    "csv_filename = 'sci_fi.csv'\n",
    "card_set_name = 'sci-fi_cards'\n",
    "features = ['agent', 'aspect', 'engine', 'anchor', 'conflict']\n",
    "card_set = pd.DataFrame()\n",
    "df = pd.read_csv(f'../data/{csv_filename}', names = ['data'])\n",
    "df = split_csv_data(df)\n",
    "# df\n",
    "# for feature in features:\n",
    "#     card_set[feature] = make_entry_list(df, feature)\n",
    "\n",
    "# card_set.to_csv(f'../data/{card_set_name}.csv', index = False)\n"
   ]
  },
  {
   "cell_type": "code",
   "execution_count": 74,
   "id": "7e1ea7f6-d533-4430-a2fd-bf1d9ee164a7",
   "metadata": {},
   "outputs": [],
   "source": [
    "def create_cleaned_csv(csv_filename, card_set_name):\n",
    "    features = ['aspect','agent','engine', 'anchor', 'conflict']\n",
    "    card_set = pd.DataFrame()\n",
    "    df = pd.read_csv(f'../data/{csv_filename}', names = ['data'])\n",
    "    df = split_csv_data(df)\n",
    "    \n",
    "    for feature in features:\n",
    "        card_set[feature] = make_entry_list(df, feature)\n",
    "        \n",
    "    card_set.to_csv(f'../data/{card_set_name}.csv', index = False)\n",
    "    return"
   ]
  },
  {
   "cell_type": "code",
   "execution_count": 40,
   "id": "7cd51212-774c-4729-8e23-658f05eb6d18",
   "metadata": {},
   "outputs": [],
   "source": [
    "\n",
    "create_cleaned_csv('sci_fi.csv', 'sci-fi_cards')"
   ]
  },
  {
   "cell_type": "markdown",
   "id": "95c8cee9-d0ce-49bc-b8e0-507dfea88ee0",
   "metadata": {
    "jp-MarkdownHeadingCollapsed": true,
    "tags": []
   },
   "source": [
    "### Now read in csv as if we started with it\n",
    "\n",
    "We need to import CSV, create entry lists with no NaN's, and then create a dict of dataframes to store each card type for use with the other functions we made."
   ]
  },
  {
   "cell_type": "code",
   "execution_count": 30,
   "id": "26521746-fb5c-4145-994c-6d6a0c4401d1",
   "metadata": {},
   "outputs": [],
   "source": [
    "df = pd.read_csv('../data/politics_cards.csv')"
   ]
  },
  {
   "cell_type": "code",
   "execution_count": 11,
   "id": "ffee864d-8cc5-403d-a855-a478fe5a90ad",
   "metadata": {},
   "outputs": [],
   "source": [
    "# df['anchor']"
   ]
  },
  {
   "cell_type": "code",
   "execution_count": 12,
   "id": "4aae996e-c7c7-4d14-af7e-72ebd4633cb1",
   "metadata": {},
   "outputs": [],
   "source": [
    "# df\n",
    "df_dict = {}\n",
    "card_types = features\n",
    "for card_type in card_types:\n",
    "    values = df[card_type]\n",
    "    values.dropna(how='any',inplace=True)\n",
    "    df_dict[card_type] = values"
   ]
  },
  {
   "cell_type": "code",
   "execution_count": 26,
   "id": "ba805173-345c-4955-8c82-d2ee4cba9b6d",
   "metadata": {},
   "outputs": [],
   "source": [
    "card_set = {}\n",
    "for card_type in card_types:\n",
    "    card_set[card_type] = df[card_type].dropna(how='any')"
   ]
  },
  {
   "cell_type": "code",
   "execution_count": 28,
   "id": "676f5d94-7857-4c09-99f3-f5baca56a449",
   "metadata": {},
   "outputs": [],
   "source": [
    "# card_set"
   ]
  },
  {
   "cell_type": "code",
   "execution_count": 72,
   "id": "f52188ad-ce85-4152-a0a9-1f4bc2db5291",
   "metadata": {},
   "outputs": [],
   "source": [
    "def create_card_database(card_set_name):\n",
    "    ### create dict of cardtypes for given cardset\n",
    "    df = pd.read_csv(f'../data/{card_set_name}.csv')\n",
    "    card_set = {}\n",
    "    card_types = df.columns.to_list()\n",
    "    for card_type in card_types:\n",
    "        card_set[card_type] = df[card_type].dropna(how = 'any')\n",
    "    return card_set"
   ]
  },
  {
   "cell_type": "code",
   "execution_count": 77,
   "id": "61c58d90-ef8a-4ab6-94fa-62544c8626ca",
   "metadata": {},
   "outputs": [],
   "source": [
    "# create_card_database('sci-fi_cards')"
   ]
  },
  {
   "cell_type": "markdown",
   "id": "78bc7ef4-fa2a-4c6b-8172-94b72b7a1d5b",
   "metadata": {
    "jp-MarkdownHeadingCollapsed": true,
    "tags": []
   },
   "source": [
    "## Get rid of A/An in sci-fi list"
   ]
  },
  {
   "cell_type": "code",
   "execution_count": 51,
   "id": "9c6034bb-5c65-4492-8941-a15d0ad26346",
   "metadata": {},
   "outputs": [],
   "source": [
    "import re\n",
    "sf = pd.read_csv('../data/sci-fi_cards.csv')"
   ]
  },
  {
   "cell_type": "code",
   "execution_count": 76,
   "id": "60f0fea8-71f7-4ecc-bf12-ae6dc5805f95",
   "metadata": {},
   "outputs": [],
   "source": [
    "def fix_agents(agent):\n",
    "    new_agent = re.sub(r'^\\W*\\w+\\W*', '', agent).capitalize()\n",
    "    return new_agent\n",
    "\n",
    "def fix_sci_fi():\n",
    "    sf = pd.read_csv('../data/sci-fi_cards.csv')\n",
    "    sf['agent'] = sf['agent'].apply(fix_agents)\n",
    "    sf.to_csv(r'../data/sci-fi_cards.csv', index = False)\n",
    "    return"
   ]
  },
  {
   "cell_type": "code",
   "execution_count": 54,
   "id": "d0eb9347-0b13-455e-8183-ef887e80a985",
   "metadata": {},
   "outputs": [],
   "source": [
    "text = sf['agent'].sample().to_string(index = False)\n",
    "\n",
    "re.sub(r'^\\W*\\w+\\W*', '', text).capitalize()"
   ]
  },
  {
   "cell_type": "code",
   "execution_count": 56,
   "id": "65530c58-cc49-4d2c-9d77-1e47ed6c6be5",
   "metadata": {},
   "outputs": [],
   "source": [
    "for agent in sf['agent']:\n",
    "    text = agent\n",
    "    re.sub(r'^\\W*\\w+\\W*', '', text).capitalize()"
   ]
  },
  {
   "cell_type": "code",
   "execution_count": 61,
   "id": "ba51b580-9b4c-4359-bd7b-c23c6d95d99a",
   "metadata": {},
   "outputs": [],
   "source": [
    "def fix_agents(agent):\n",
    "    new_agent = re.sub(r'^\\W*\\w+\\W*', '', agent).capitalize()\n",
    "    return new_agent\n",
    "\n",
    "sf['agent'] = sf['agent'].apply(fix_agents)"
   ]
  },
  {
   "cell_type": "code",
   "execution_count": 63,
   "id": "0a177dbf-88e6-4ab6-b5f6-9b71022e6530",
   "metadata": {},
   "outputs": [],
   "source": [
    "sf.to_csv(r'../data/sci-fi_cards.csv', index = False)"
   ]
  },
  {
   "cell_type": "code",
   "execution_count": 66,
   "id": "9f400fa6-d2af-45b3-b711-44f036ca3433",
   "metadata": {},
   "outputs": [],
   "source": [
    "flist = sf.columns.to_list()"
   ]
  },
  {
   "cell_type": "code",
   "execution_count": 67,
   "id": "3b75d9ca-e917-4935-a9df-e496dd78d66e",
   "metadata": {},
   "outputs": [],
   "source": [
    "flist"
   ]
  },
  {
   "cell_type": "markdown",
   "id": "aa0c07b6-4dba-4bd0-9f12-190c88c7969c",
   "metadata": {},
   "source": [
    "## Fixing Horror cards"
   ]
  },
  {
   "cell_type": "code",
   "execution_count": 12,
   "id": "c2df79f7-289a-463e-98b4-c81fdc93f275",
   "metadata": {},
   "outputs": [],
   "source": []
  },
  {
   "cell_type": "code",
   "execution_count": null,
   "id": "69f86fa8-3c11-4cfb-9381-3ccfd520823b",
   "metadata": {},
   "outputs": [],
   "source": []
  },
  {
   "cell_type": "code",
   "execution_count": null,
   "id": "3e984637-fb78-4b5d-b1ad-d97e344e3039",
   "metadata": {},
   "outputs": [],
   "source": []
  }
 ],
 "metadata": {
  "kernelspec": {
   "display_name": "Python 3 (ipykernel)",
   "language": "python",
   "name": "python3"
  },
  "language_info": {
   "codemirror_mode": {
    "name": "ipython",
    "version": 3
   },
   "file_extension": ".py",
   "mimetype": "text/x-python",
   "name": "python",
   "nbconvert_exporter": "python",
   "pygments_lexer": "ipython3",
   "version": "3.9.2"
  }
 },
 "nbformat": 4,
 "nbformat_minor": 5
}

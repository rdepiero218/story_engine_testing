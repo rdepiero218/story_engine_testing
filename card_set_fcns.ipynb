{
 "cells": [
  {
   "cell_type": "markdown",
   "id": "4491a8c6-da1e-4413-ad9a-c47403c1ba27",
   "metadata": {},
   "source": [
    "# Creating Lists for Each Card Type"
   ]
  },
  {
   "cell_type": "code",
   "execution_count": null,
   "id": "5beb53fe-f2fd-4db0-ac26-b7b767658877",
   "metadata": {},
   "outputs": [],
   "source": [
    "import pandas as pd\n",
    "import numpy as np\n",
    "\n",
    "## display options\n",
    "pd.options.display.max_rows = 4000\n",
    "pd.options.display.max_columns = 100\n",
    "pd.set_option('max_colwidth', 100)"
   ]
  },
  {
   "cell_type": "markdown",
   "id": "d189830e-7214-45da-baee-65ce017fbc15",
   "metadata": {},
   "source": [
    "## Function Definitions"
   ]
  },
  {
   "cell_type": "code",
   "execution_count": 62,
   "id": "4a66d6bd-0c23-48b6-880b-916bca678364",
   "metadata": {},
   "outputs": [],
   "source": [
    "### function that splits data into columns\n",
    "def split_csv_data(df):\n",
    "    df[['type', 'option1','option2','option3', 'option4']] = df['data'].str.split(';',n=4,expand=True)\n",
    "    ## remove extra semicolons from last column\n",
    "    df['option4'] = df['option4'].str.strip(';')\n",
    "    ## drop the data column\n",
    "    df.drop(['data'],axis=1, inplace=True)\n",
    "    return df\n",
    "\n",
    "### makes dataframe/series for each card type\n",
    "def make_entry_list(df, val_type):\n",
    "    # filter dataframe by type\n",
    "    filtered_df = df[df['type'] == val_type]\n",
    "    vals = pd.concat([filtered_df['option1'], filtered_df['option2'], filtered_df['option3'], filtered_df['option4']], ignore_index=True)\n",
    "    vals.replace(r'^\\s*$', np.nan, regex=True, inplace=True)\n",
    "    vals.dropna(how='any',inplace=True)\n",
    "    return vals"
   ]
  },
  {
   "cell_type": "code",
   "execution_count": 63,
   "id": "8985dce8-4ae8-46ef-86f9-c1da1d8e79e2",
   "metadata": {},
   "outputs": [],
   "source": [
    "### read in data\n",
    "pol = pd.read_csv('./data/politics.csv', names=['data'])\n",
    "sf = pd.read_csv('./data/sci_fi.csv', names=['data'])"
   ]
  },
  {
   "cell_type": "code",
   "execution_count": 64,
   "id": "a9e7b451-47c6-452c-8917-d0245dc46c72",
   "metadata": {},
   "outputs": [],
   "source": [
    "### Clean up dataframes\n",
    "sf = split_csv_data(sf)\n",
    "pol = split_csv_data(pol)"
   ]
  },
  {
   "cell_type": "code",
   "execution_count": 65,
   "id": "d1372c0b-ba66-4f3c-ba66-f841f98f275f",
   "metadata": {},
   "outputs": [
    {
     "data": {
      "text/html": [
       "<div>\n",
       "<style scoped>\n",
       "    .dataframe tbody tr th:only-of-type {\n",
       "        vertical-align: middle;\n",
       "    }\n",
       "\n",
       "    .dataframe tbody tr th {\n",
       "        vertical-align: top;\n",
       "    }\n",
       "\n",
       "    .dataframe thead th {\n",
       "        text-align: right;\n",
       "    }\n",
       "</style>\n",
       "<table border=\"1\" class=\"dataframe\">\n",
       "  <thead>\n",
       "    <tr style=\"text-align: right;\">\n",
       "      <th></th>\n",
       "      <th>type</th>\n",
       "      <th>option1</th>\n",
       "      <th>option2</th>\n",
       "      <th>option3</th>\n",
       "      <th>option4</th>\n",
       "    </tr>\n",
       "  </thead>\n",
       "  <tbody>\n",
       "    <tr>\n",
       "      <th>0</th>\n",
       "      <td>agent</td>\n",
       "      <td>A telepath</td>\n",
       "      <td>An extra-terrestrial</td>\n",
       "      <td>A sentient</td>\n",
       "      <td>An invader</td>\n",
       "    </tr>\n",
       "    <tr>\n",
       "      <th>1</th>\n",
       "      <td>agent</td>\n",
       "      <td>A hacker</td>\n",
       "      <td>A revolutionary</td>\n",
       "      <td>A blackmailer</td>\n",
       "      <td>A heist leader</td>\n",
       "    </tr>\n",
       "    <tr>\n",
       "      <th>2</th>\n",
       "      <td>agent</td>\n",
       "      <td>A navigator</td>\n",
       "      <td>A technician</td>\n",
       "      <td>An astrophysicist</td>\n",
       "      <td>A data scientist</td>\n",
       "    </tr>\n",
       "    <tr>\n",
       "      <th>3</th>\n",
       "      <td>agent</td>\n",
       "      <td>An escaped experiment</td>\n",
       "      <td>A pyrokinetic</td>\n",
       "      <td>A bomb-maker</td>\n",
       "      <td>A gene splicer</td>\n",
       "    </tr>\n",
       "    <tr>\n",
       "      <th>4</th>\n",
       "      <td>agent</td>\n",
       "      <td>A salvager</td>\n",
       "      <td>An engineer</td>\n",
       "      <td>An astroid miner</td>\n",
       "      <td>An arms dealer</td>\n",
       "    </tr>\n",
       "    <tr>\n",
       "      <th>5</th>\n",
       "      <td>agent</td>\n",
       "      <td>A chemist</td>\n",
       "      <td>A colonist</td>\n",
       "      <td>A cadet</td>\n",
       "      <td>A weapons specialist</td>\n",
       "    </tr>\n",
       "    <tr>\n",
       "      <th>6</th>\n",
       "      <td>agent</td>\n",
       "      <td>A graffiti artist</td>\n",
       "      <td>A bartender</td>\n",
       "      <td>A DJ</td>\n",
       "      <td>A clubber</td>\n",
       "    </tr>\n",
       "    <tr>\n",
       "      <th>7</th>\n",
       "      <td>agent</td>\n",
       "      <td>A robot</td>\n",
       "      <td>An artificial intelligence</td>\n",
       "      <td>A bodyguard</td>\n",
       "      <td>A supercomputer</td>\n",
       "    </tr>\n",
       "    <tr>\n",
       "      <th>8</th>\n",
       "      <td>agent</td>\n",
       "      <td>A streamer</td>\n",
       "      <td>A gamer</td>\n",
       "      <td>An influencer</td>\n",
       "      <td>A performance artist</td>\n",
       "    </tr>\n",
       "    <tr>\n",
       "      <th>9</th>\n",
       "      <td>agent</td>\n",
       "      <td>A prisoner</td>\n",
       "      <td>A programmer</td>\n",
       "      <td>A telekinetic</td>\n",
       "      <td>A test subject</td>\n",
       "    </tr>\n",
       "    <tr>\n",
       "      <th>10</th>\n",
       "      <td>agent</td>\n",
       "      <td>A pilot</td>\n",
       "      <td>A comms operator</td>\n",
       "      <td>An operative</td>\n",
       "      <td>A general</td>\n",
       "    </tr>\n",
       "    <tr>\n",
       "      <th>11</th>\n",
       "      <td>agent</td>\n",
       "      <td>A chrononaut</td>\n",
       "      <td>A translator</td>\n",
       "      <td>A terrorist</td>\n",
       "      <td>A CEO</td>\n",
       "    </tr>\n",
       "    <tr>\n",
       "      <th>12</th>\n",
       "      <td>engine</td>\n",
       "      <td>Wants to make a power grab with</td>\n",
       "      <td>Wants to unseat a politician with</td>\n",
       "      <td></td>\n",
       "      <td></td>\n",
       "    </tr>\n",
       "    <tr>\n",
       "      <th>13</th>\n",
       "      <td>engine</td>\n",
       "      <td>Wants to find the bomb planted by/on</td>\n",
       "      <td>Wants to plant a bomb in/on</td>\n",
       "      <td></td>\n",
       "      <td></td>\n",
       "    </tr>\n",
       "    <tr>\n",
       "      <th>14</th>\n",
       "      <td>engine</td>\n",
       "      <td>Wants to topple a government with</td>\n",
       "      <td>Wants to uncover a government secret involving</td>\n",
       "      <td></td>\n",
       "      <td></td>\n",
       "    </tr>\n",
       "    <tr>\n",
       "      <th>15</th>\n",
       "      <td>engine</td>\n",
       "      <td>Wants to track down</td>\n",
       "      <td>Wants to carry out an invasion of/with</td>\n",
       "      <td></td>\n",
       "      <td></td>\n",
       "    </tr>\n",
       "    <tr>\n",
       "      <th>16</th>\n",
       "      <td>engine</td>\n",
       "      <td>Wants to arrange the release of</td>\n",
       "      <td>Wants to conduct blackmail on/with</td>\n",
       "      <td></td>\n",
       "      <td></td>\n",
       "    </tr>\n",
       "    <tr>\n",
       "      <th>17</th>\n",
       "      <td>engine</td>\n",
       "      <td>Wants to pull of a heist with/on/of</td>\n",
       "      <td>Wants to explore a new planet with the help of</td>\n",
       "      <td></td>\n",
       "      <td></td>\n",
       "    </tr>\n",
       "    <tr>\n",
       "      <th>18</th>\n",
       "      <td>engine</td>\n",
       "      <td>Wants to win a race involving</td>\n",
       "      <td>Wants to invent (or discover)</td>\n",
       "      <td></td>\n",
       "      <td></td>\n",
       "    </tr>\n",
       "    <tr>\n",
       "      <th>19</th>\n",
       "      <td>engine</td>\n",
       "      <td>wants to change the past of/with</td>\n",
       "      <td>Wants to change the future of/with</td>\n",
       "      <td></td>\n",
       "      <td></td>\n",
       "    </tr>\n",
       "    <tr>\n",
       "      <th>20</th>\n",
       "      <td>engine</td>\n",
       "      <td>Wants to communicate with an alien species through</td>\n",
       "      <td>Wants to restore the lost memory of</td>\n",
       "      <td></td>\n",
       "      <td></td>\n",
       "    </tr>\n",
       "    <tr>\n",
       "      <th>21</th>\n",
       "      <td>engine</td>\n",
       "      <td>Wants to create a distraction with</td>\n",
       "      <td>Wants to perform an assassination of/with</td>\n",
       "      <td></td>\n",
       "      <td></td>\n",
       "    </tr>\n",
       "    <tr>\n",
       "      <th>22</th>\n",
       "      <td>engine</td>\n",
       "      <td>Wants to make a major research breakthrough with/on</td>\n",
       "      <td>Wants to upgrade the tech of</td>\n",
       "      <td></td>\n",
       "      <td></td>\n",
       "    </tr>\n",
       "    <tr>\n",
       "      <th>23</th>\n",
       "      <td>engine</td>\n",
       "      <td>Wants the rare material they can only get from</td>\n",
       "      <td>Wants to make a weapon out of</td>\n",
       "      <td></td>\n",
       "      <td></td>\n",
       "    </tr>\n",
       "    <tr>\n",
       "      <th>24</th>\n",
       "      <td>anchor</td>\n",
       "      <td>A nebula</td>\n",
       "      <td>A cloaking device</td>\n",
       "      <td>An energy shield</td>\n",
       "      <td>A set of coordinates</td>\n",
       "    </tr>\n",
       "    <tr>\n",
       "      <th>25</th>\n",
       "      <td>anchor</td>\n",
       "      <td>An engine</td>\n",
       "      <td>An algorithm</td>\n",
       "      <td>A fuel source</td>\n",
       "      <td>A spaceport</td>\n",
       "    </tr>\n",
       "    <tr>\n",
       "      <th>26</th>\n",
       "      <td>anchor</td>\n",
       "      <td>A high-rise</td>\n",
       "      <td>A metropolis</td>\n",
       "      <td>A hover vehicle</td>\n",
       "      <td>A jetpack</td>\n",
       "    </tr>\n",
       "    <tr>\n",
       "      <th>27</th>\n",
       "      <td>anchor</td>\n",
       "      <td>A blaster</td>\n",
       "      <td>A drone</td>\n",
       "      <td>A control tower</td>\n",
       "      <td>A dropship</td>\n",
       "    </tr>\n",
       "    <tr>\n",
       "      <th>28</th>\n",
       "      <td>anchor</td>\n",
       "      <td>A planet</td>\n",
       "      <td>An organism</td>\n",
       "      <td>A serum</td>\n",
       "      <td>A biome</td>\n",
       "    </tr>\n",
       "    <tr>\n",
       "      <th>29</th>\n",
       "      <td>anchor</td>\n",
       "      <td>A reactor</td>\n",
       "      <td>A machine part</td>\n",
       "      <td>A countdown</td>\n",
       "      <td>An energy weapon</td>\n",
       "    </tr>\n",
       "    <tr>\n",
       "      <th>30</th>\n",
       "      <td>anchor</td>\n",
       "      <td>An explosive</td>\n",
       "      <td>A beacon</td>\n",
       "      <td>A simulation</td>\n",
       "      <td>A hidden compartment</td>\n",
       "    </tr>\n",
       "    <tr>\n",
       "      <th>31</th>\n",
       "      <td>anchor</td>\n",
       "      <td>A spaceship</td>\n",
       "      <td>A spacesuit</td>\n",
       "      <td>A jump point</td>\n",
       "      <td>A laser</td>\n",
       "    </tr>\n",
       "    <tr>\n",
       "      <th>32</th>\n",
       "      <td>anchor</td>\n",
       "      <td>A network</td>\n",
       "      <td>A server room</td>\n",
       "      <td>A hard drive</td>\n",
       "      <td>A power plant</td>\n",
       "    </tr>\n",
       "    <tr>\n",
       "      <th>33</th>\n",
       "      <td>anchor</td>\n",
       "      <td>A body modification</td>\n",
       "      <td>A star system</td>\n",
       "      <td>A cryo pod</td>\n",
       "      <td>An exo-skeleton</td>\n",
       "    </tr>\n",
       "    <tr>\n",
       "      <th>34</th>\n",
       "      <td>anchor</td>\n",
       "      <td>A cipher</td>\n",
       "      <td>A particle</td>\n",
       "      <td>A time machine</td>\n",
       "      <td>A satelllite</td>\n",
       "    </tr>\n",
       "    <tr>\n",
       "      <th>35</th>\n",
       "      <td>anchor</td>\n",
       "      <td>A chemical</td>\n",
       "      <td>A black hole</td>\n",
       "      <td>A gene</td>\n",
       "      <td>A gas giant</td>\n",
       "    </tr>\n",
       "    <tr>\n",
       "      <th>36</th>\n",
       "      <td>conflict</td>\n",
       "      <td>But they will never be able to travel off-world again</td>\n",
       "      <td>But they will be cutoff from the network forever</td>\n",
       "      <td></td>\n",
       "      <td></td>\n",
       "    </tr>\n",
       "    <tr>\n",
       "      <th>37</th>\n",
       "      <td>conflict</td>\n",
       "      <td>But it will mean trusting someone who betrayed them</td>\n",
       "      <td>But they will have to live the rest of their life doing a job they hate</td>\n",
       "      <td></td>\n",
       "      <td></td>\n",
       "    </tr>\n",
       "    <tr>\n",
       "      <th>38</th>\n",
       "      <td>conflict</td>\n",
       "      <td>But they will be blacklisted</td>\n",
       "      <td>But the blowback will fall on their closest friend</td>\n",
       "      <td></td>\n",
       "      <td></td>\n",
       "    </tr>\n",
       "    <tr>\n",
       "      <th>39</th>\n",
       "      <td>conflict</td>\n",
       "      <td>But it will make their timeline dangerously unstable</td>\n",
       "      <td>But it will mean giving up the chance to fix their biggest regret</td>\n",
       "      <td></td>\n",
       "      <td></td>\n",
       "    </tr>\n",
       "    <tr>\n",
       "      <th>40</th>\n",
       "      <td>conflict</td>\n",
       "      <td>But it will start a war</td>\n",
       "      <td>But it would mean giving up a fight</td>\n",
       "      <td></td>\n",
       "      <td></td>\n",
       "    </tr>\n",
       "    <tr>\n",
       "      <th>41</th>\n",
       "      <td>conflict</td>\n",
       "      <td>But it will mean rioting in the streets</td>\n",
       "      <td>But it will introduce a dangerous new technology to the world</td>\n",
       "      <td></td>\n",
       "      <td></td>\n",
       "    </tr>\n",
       "    <tr>\n",
       "      <th>42</th>\n",
       "      <td>conflict</td>\n",
       "      <td>But it will cost them their last connection to humanity</td>\n",
       "      <td>But it will be the only thing they are remembered for</td>\n",
       "      <td></td>\n",
       "      <td></td>\n",
       "    </tr>\n",
       "    <tr>\n",
       "      <th>43</th>\n",
       "      <td>conflict</td>\n",
       "      <td>But it will unite their enemies</td>\n",
       "      <td>But it will cause a rift amongst their allies</td>\n",
       "      <td></td>\n",
       "      <td></td>\n",
       "    </tr>\n",
       "    <tr>\n",
       "      <th>44</th>\n",
       "      <td>conflict</td>\n",
       "      <td>But a criminal will go free</td>\n",
       "      <td>But an innocent person will be executed</td>\n",
       "      <td></td>\n",
       "      <td></td>\n",
       "    </tr>\n",
       "    <tr>\n",
       "      <th>45</th>\n",
       "      <td>conflict</td>\n",
       "      <td>But a deadly experiment will be released from containment</td>\n",
       "      <td>But a widely used technology will become unstable</td>\n",
       "      <td></td>\n",
       "      <td></td>\n",
       "    </tr>\n",
       "    <tr>\n",
       "      <th>46</th>\n",
       "      <td>conflict</td>\n",
       "      <td>But it will set a mass extermination in motion</td>\n",
       "      <td>But they will lose the person closest to them</td>\n",
       "      <td></td>\n",
       "      <td></td>\n",
       "    </tr>\n",
       "    <tr>\n",
       "      <th>47</th>\n",
       "      <td>conflict</td>\n",
       "      <td>But it will mean joining the enemy</td>\n",
       "      <td>But it will make them a fugitive</td>\n",
       "      <td></td>\n",
       "      <td></td>\n",
       "    </tr>\n",
       "    <tr>\n",
       "      <th>48</th>\n",
       "      <td>aspect</td>\n",
       "      <td>Gifted</td>\n",
       "      <td>Phasing</td>\n",
       "      <td>Digital</td>\n",
       "      <td>Black Market</td>\n",
       "    </tr>\n",
       "    <tr>\n",
       "      <th>49</th>\n",
       "      <td>aspect</td>\n",
       "      <td>Disappearing</td>\n",
       "      <td>Explosive</td>\n",
       "      <td>Aqauatic</td>\n",
       "      <td>Xenophobic</td>\n",
       "    </tr>\n",
       "    <tr>\n",
       "      <th>50</th>\n",
       "      <td>aspect</td>\n",
       "      <td>New</td>\n",
       "      <td>Reckless</td>\n",
       "      <td>Secretive</td>\n",
       "      <td>Self-destructive</td>\n",
       "    </tr>\n",
       "    <tr>\n",
       "      <th>51</th>\n",
       "      <td>aspect</td>\n",
       "      <td>Despotic</td>\n",
       "      <td>Time-manipulating</td>\n",
       "      <td>Alien</td>\n",
       "      <td>Infected</td>\n",
       "    </tr>\n",
       "    <tr>\n",
       "      <th>52</th>\n",
       "      <td>aspect</td>\n",
       "      <td>Zero-gravity</td>\n",
       "      <td>Anomalous</td>\n",
       "      <td>Gestating</td>\n",
       "      <td>Experimental</td>\n",
       "    </tr>\n",
       "    <tr>\n",
       "      <th>53</th>\n",
       "      <td>aspect</td>\n",
       "      <td>Overloaded</td>\n",
       "      <td>Uncharted</td>\n",
       "      <td>Infested</td>\n",
       "      <td>Tracked</td>\n",
       "    </tr>\n",
       "    <tr>\n",
       "      <th>54</th>\n",
       "      <td>aspect</td>\n",
       "      <td>Viral</td>\n",
       "      <td>Dark</td>\n",
       "      <td>Telekinetic</td>\n",
       "      <td>Hovering</td>\n",
       "    </tr>\n",
       "    <tr>\n",
       "      <th>55</th>\n",
       "      <td>aspect</td>\n",
       "      <td>Expanding</td>\n",
       "      <td>Government-backed</td>\n",
       "      <td>Turbo-charged</td>\n",
       "      <td>Hyper-Intelligent</td>\n",
       "    </tr>\n",
       "    <tr>\n",
       "      <th>56</th>\n",
       "      <td>aspect</td>\n",
       "      <td>Mobile</td>\n",
       "      <td>Privately Owned</td>\n",
       "      <td>Addictive</td>\n",
       "      <td>Smart</td>\n",
       "    </tr>\n",
       "    <tr>\n",
       "      <th>57</th>\n",
       "      <td>aspect</td>\n",
       "      <td>Top-of-the-line</td>\n",
       "      <td>Unassuming</td>\n",
       "      <td>Unlisted</td>\n",
       "      <td>Long-range</td>\n",
       "    </tr>\n",
       "    <tr>\n",
       "      <th>58</th>\n",
       "      <td>aspect</td>\n",
       "      <td>Radical</td>\n",
       "      <td>Refurbished</td>\n",
       "      <td>Rich</td>\n",
       "      <td>Advanced</td>\n",
       "    </tr>\n",
       "    <tr>\n",
       "      <th>59</th>\n",
       "      <td>aspect</td>\n",
       "      <td>Cutting-edge</td>\n",
       "      <td>Poor</td>\n",
       "      <td>Untraceable</td>\n",
       "      <td>Blacklisted</td>\n",
       "    </tr>\n",
       "  </tbody>\n",
       "</table>\n",
       "</div>"
      ],
      "text/plain": [
       "        type                                                    option1  \\\n",
       "0      agent                                                 A telepath   \n",
       "1      agent                                                   A hacker   \n",
       "2      agent                                                A navigator   \n",
       "3      agent                                      An escaped experiment   \n",
       "4      agent                                                 A salvager   \n",
       "5      agent                                                  A chemist   \n",
       "6      agent                                          A graffiti artist   \n",
       "7      agent                                                    A robot   \n",
       "8      agent                                                 A streamer   \n",
       "9      agent                                                 A prisoner   \n",
       "10     agent                                                    A pilot   \n",
       "11     agent                                               A chrononaut   \n",
       "12    engine                            Wants to make a power grab with   \n",
       "13    engine                       Wants to find the bomb planted by/on   \n",
       "14    engine                          Wants to topple a government with   \n",
       "15    engine                                        Wants to track down   \n",
       "16    engine                            Wants to arrange the release of   \n",
       "17    engine                        Wants to pull of a heist with/on/of   \n",
       "18    engine                              Wants to win a race involving   \n",
       "19    engine                           wants to change the past of/with   \n",
       "20    engine         Wants to communicate with an alien species through   \n",
       "21    engine                         Wants to create a distraction with   \n",
       "22    engine        Wants to make a major research breakthrough with/on   \n",
       "23    engine             Wants the rare material they can only get from   \n",
       "24    anchor                                                   A nebula   \n",
       "25    anchor                                                  An engine   \n",
       "26    anchor                                                A high-rise   \n",
       "27    anchor                                                  A blaster   \n",
       "28    anchor                                                   A planet   \n",
       "29    anchor                                                  A reactor   \n",
       "30    anchor                                               An explosive   \n",
       "31    anchor                                                A spaceship   \n",
       "32    anchor                                                  A network   \n",
       "33    anchor                                        A body modification   \n",
       "34    anchor                                                   A cipher   \n",
       "35    anchor                                                 A chemical   \n",
       "36  conflict      But they will never be able to travel off-world again   \n",
       "37  conflict        But it will mean trusting someone who betrayed them   \n",
       "38  conflict                               But they will be blacklisted   \n",
       "39  conflict       But it will make their timeline dangerously unstable   \n",
       "40  conflict                                    But it will start a war   \n",
       "41  conflict                    But it will mean rioting in the streets   \n",
       "42  conflict    But it will cost them their last connection to humanity   \n",
       "43  conflict                            But it will unite their enemies   \n",
       "44  conflict                                But a criminal will go free   \n",
       "45  conflict  But a deadly experiment will be released from containment   \n",
       "46  conflict             But it will set a mass extermination in motion   \n",
       "47  conflict                         But it will mean joining the enemy   \n",
       "48    aspect                                                     Gifted   \n",
       "49    aspect                                               Disappearing   \n",
       "50    aspect                                                        New   \n",
       "51    aspect                                                   Despotic   \n",
       "52    aspect                                               Zero-gravity   \n",
       "53    aspect                                                 Overloaded   \n",
       "54    aspect                                                      Viral   \n",
       "55    aspect                                                  Expanding   \n",
       "56    aspect                                                     Mobile   \n",
       "57    aspect                                            Top-of-the-line   \n",
       "58    aspect                                                    Radical   \n",
       "59    aspect                                               Cutting-edge   \n",
       "\n",
       "                                                                    option2  \\\n",
       "0                                                      An extra-terrestrial   \n",
       "1                                                           A revolutionary   \n",
       "2                                                              A technician   \n",
       "3                                                             A pyrokinetic   \n",
       "4                                                               An engineer   \n",
       "5                                                                A colonist   \n",
       "6                                                               A bartender   \n",
       "7                                                An artificial intelligence   \n",
       "8                                                                   A gamer   \n",
       "9                                                              A programmer   \n",
       "10                                                         A comms operator   \n",
       "11                                                             A translator   \n",
       "12                                        Wants to unseat a politician with   \n",
       "13                                              Wants to plant a bomb in/on   \n",
       "14                           Wants to uncover a government secret involving   \n",
       "15                                   Wants to carry out an invasion of/with   \n",
       "16                                       Wants to conduct blackmail on/with   \n",
       "17                           Wants to explore a new planet with the help of   \n",
       "18                                            Wants to invent (or discover)   \n",
       "19                                       Wants to change the future of/with   \n",
       "20                                      Wants to restore the lost memory of   \n",
       "21                                Wants to perform an assassination of/with   \n",
       "22                                             Wants to upgrade the tech of   \n",
       "23                                            Wants to make a weapon out of   \n",
       "24                                                        A cloaking device   \n",
       "25                                                             An algorithm   \n",
       "26                                                             A metropolis   \n",
       "27                                                                  A drone   \n",
       "28                                                              An organism   \n",
       "29                                                           A machine part   \n",
       "30                                                                 A beacon   \n",
       "31                                                              A spacesuit   \n",
       "32                                                            A server room   \n",
       "33                                                            A star system   \n",
       "34                                                               A particle   \n",
       "35                                                             A black hole   \n",
       "36                         But they will be cutoff from the network forever   \n",
       "37  But they will have to live the rest of their life doing a job they hate   \n",
       "38                       But the blowback will fall on their closest friend   \n",
       "39        But it will mean giving up the chance to fix their biggest regret   \n",
       "40                                      But it would mean giving up a fight   \n",
       "41            But it will introduce a dangerous new technology to the world   \n",
       "42                    But it will be the only thing they are remembered for   \n",
       "43                            But it will cause a rift amongst their allies   \n",
       "44                                  But an innocent person will be executed   \n",
       "45                        But a widely used technology will become unstable   \n",
       "46                            But they will lose the person closest to them   \n",
       "47                                         But it will make them a fugitive   \n",
       "48                                                                  Phasing   \n",
       "49                                                                Explosive   \n",
       "50                                                                 Reckless   \n",
       "51                                                        Time-manipulating   \n",
       "52                                                                Anomalous   \n",
       "53                                                                Uncharted   \n",
       "54                                                                     Dark   \n",
       "55                                                        Government-backed   \n",
       "56                                                          Privately Owned   \n",
       "57                                                               Unassuming   \n",
       "58                                                              Refurbished   \n",
       "59                                                                     Poor   \n",
       "\n",
       "              option3               option4  \n",
       "0          A sentient            An invader  \n",
       "1       A blackmailer        A heist leader  \n",
       "2   An astrophysicist      A data scientist  \n",
       "3        A bomb-maker        A gene splicer  \n",
       "4    An astroid miner        An arms dealer  \n",
       "5             A cadet  A weapons specialist  \n",
       "6                A DJ             A clubber  \n",
       "7         A bodyguard       A supercomputer  \n",
       "8       An influencer  A performance artist  \n",
       "9       A telekinetic        A test subject  \n",
       "10       An operative             A general  \n",
       "11        A terrorist                 A CEO  \n",
       "12                                           \n",
       "13                                           \n",
       "14                                           \n",
       "15                                           \n",
       "16                                           \n",
       "17                                           \n",
       "18                                           \n",
       "19                                           \n",
       "20                                           \n",
       "21                                           \n",
       "22                                           \n",
       "23                                           \n",
       "24   An energy shield  A set of coordinates  \n",
       "25      A fuel source           A spaceport  \n",
       "26    A hover vehicle             A jetpack  \n",
       "27    A control tower            A dropship  \n",
       "28            A serum               A biome  \n",
       "29        A countdown      An energy weapon  \n",
       "30       A simulation  A hidden compartment  \n",
       "31       A jump point               A laser  \n",
       "32       A hard drive         A power plant  \n",
       "33         A cryo pod       An exo-skeleton  \n",
       "34     A time machine          A satelllite  \n",
       "35             A gene           A gas giant  \n",
       "36                                           \n",
       "37                                           \n",
       "38                                           \n",
       "39                                           \n",
       "40                                           \n",
       "41                                           \n",
       "42                                           \n",
       "43                                           \n",
       "44                                           \n",
       "45                                           \n",
       "46                                           \n",
       "47                                           \n",
       "48            Digital          Black Market  \n",
       "49           Aqauatic            Xenophobic  \n",
       "50          Secretive      Self-destructive  \n",
       "51              Alien              Infected  \n",
       "52          Gestating          Experimental  \n",
       "53           Infested               Tracked  \n",
       "54        Telekinetic              Hovering  \n",
       "55      Turbo-charged     Hyper-Intelligent  \n",
       "56          Addictive                 Smart  \n",
       "57           Unlisted            Long-range  \n",
       "58               Rich              Advanced  \n",
       "59        Untraceable           Blacklisted  "
      ]
     },
     "execution_count": 65,
     "metadata": {},
     "output_type": "execute_result"
    }
   ],
   "source": [
    "sf"
   ]
  },
  {
   "cell_type": "code",
   "execution_count": null,
   "id": "d49cfb97-8fcf-45b9-9ccc-f30c2cb5b890",
   "metadata": {},
   "outputs": [],
   "source": []
  },
  {
   "cell_type": "code",
   "execution_count": 15,
   "id": "e2641eff-1f2f-48ad-991b-233e393335c4",
   "metadata": {},
   "outputs": [
    {
     "data": {
      "text/plain": [
       "agent       12\n",
       "engine      12\n",
       "anchor      12\n",
       "conflict    12\n",
       "aspect      12\n",
       "Name: type, dtype: int64"
      ]
     },
     "execution_count": 15,
     "metadata": {},
     "output_type": "execute_result"
    }
   ],
   "source": [
    "sf['type'].value_counts()"
   ]
  },
  {
   "cell_type": "code",
   "execution_count": 16,
   "id": "05e96fc2-0ef4-45b6-bab6-f13877c27ab0",
   "metadata": {},
   "outputs": [
    {
     "data": {
      "text/plain": [
       "agent       10\n",
       "engine       7\n",
       "anchor       7\n",
       "conflict     7\n",
       "aspect       4\n",
       "Name: type, dtype: int64"
      ]
     },
     "execution_count": 16,
     "metadata": {},
     "output_type": "execute_result"
    }
   ],
   "source": [
    "pol['type'].value_counts()"
   ]
  },
  {
   "cell_type": "markdown",
   "id": "b053fcbe-6696-4aee-9419-dc5e51df452c",
   "metadata": {},
   "source": [
    "### Setting up Sci Fi Card Lists"
   ]
  },
  {
   "cell_type": "code",
   "execution_count": 18,
   "id": "70a62cef-c095-4ff1-9f54-fdbffdfd0310",
   "metadata": {},
   "outputs": [
    {
     "data": {
      "text/plain": [
       "array(['agent', 'engine', 'anchor', 'conflict', 'aspect'], dtype=object)"
      ]
     },
     "execution_count": 18,
     "metadata": {},
     "output_type": "execute_result"
    }
   ],
   "source": [
    "sf['type'].unique()"
   ]
  },
  {
   "cell_type": "code",
   "execution_count": 66,
   "id": "383115f1-25a9-47a2-a533-b01edbc18257",
   "metadata": {},
   "outputs": [],
   "source": [
    "card_types = ['agent', 'aspect','engine', 'anchor', 'conflict']"
   ]
  },
  {
   "cell_type": "code",
   "execution_count": 67,
   "id": "fb54941c-19a1-4d83-baa5-d3a8f6313e55",
   "metadata": {},
   "outputs": [],
   "source": [
    "### create dict of card type dataframes\n",
    "df_dict = {}\n",
    "for card_type in card_types:\n",
    "    df_dict[card_type] = make_entry_list(sf, card_type)"
   ]
  },
  {
   "cell_type": "code",
   "execution_count": 68,
   "id": "9cd3cc79-8d7c-4768-9eb0-25c624f8f2a6",
   "metadata": {},
   "outputs": [],
   "source": [
    "def create_asset_lists(df, card_types):\n",
    "    ### create dict of card type dataframes\n",
    "    df_dict = {}\n",
    "    for card_type in card_types:\n",
    "        df_dict[card_type] = make_entry_list(df, card_type)\n",
    "    return df_dict"
   ]
  },
  {
   "cell_type": "code",
   "execution_count": 69,
   "id": "f6749ed3-c282-40be-b3c5-2f6514aedc79",
   "metadata": {},
   "outputs": [],
   "source": [
    "sf_assets = create_asset_lists(sf, card_types)"
   ]
  },
  {
   "cell_type": "code",
   "execution_count": 71,
   "id": "c97cfa28-9c92-41de-b88a-9d6738ace2eb",
   "metadata": {},
   "outputs": [],
   "source": [
    "# sf_assets"
   ]
  },
  {
   "cell_type": "markdown",
   "id": "ae31e31a-77ac-4a54-8f5b-02cdb60c7dfc",
   "metadata": {},
   "source": [
    "### Let's make some card combos!"
   ]
  },
  {
   "cell_type": "code",
   "execution_count": 72,
   "id": "8c8041d7-a13b-4cb6-b792-b4d65b74b01c",
   "metadata": {},
   "outputs": [
    {
     "data": {
      "text/plain": [
       "10    A pilot\n",
       "dtype: object"
      ]
     },
     "execution_count": 72,
     "metadata": {},
     "output_type": "execute_result"
    }
   ],
   "source": [
    "### select random entry from list of values\n",
    "df_dict['agent'].sample()"
   ]
  },
  {
   "cell_type": "code",
   "execution_count": 73,
   "id": "c28bc130-c8df-4d29-862d-197a02ec2432",
   "metadata": {},
   "outputs": [
    {
     "name": "stdout",
     "output_type": "stream",
     "text": [
      "Your agent is:  A gene splicer\n"
     ]
    }
   ],
   "source": [
    "print('Your %s is:  %s'%('agent', df_dict['agent'].sample().to_string(index=False)))"
   ]
  },
  {
   "cell_type": "code",
   "execution_count": 74,
   "id": "ca58f0e1-09ca-4cea-9770-88095d143202",
   "metadata": {},
   "outputs": [
    {
     "name": "stdout",
     "output_type": "stream",
     "text": [
      "Your agent:  A technician\n",
      "Your aspect:  Black Market\n",
      "Your engine:  Wants to invent (or discover)\n",
      "Your anchor:  A black hole\n",
      "Your conflict:  But it will be the only thing they are remembered for\n"
     ]
    }
   ],
   "source": [
    "for card_type in df_dict:\n",
    "    print('Your %s:  %s'%(card_type, df_dict[card_type].sample().to_string(index=False)))"
   ]
  },
  {
   "cell_type": "code",
   "execution_count": 121,
   "id": "126e948f-89b1-4e76-9734-e3f1fe98cdf5",
   "metadata": {},
   "outputs": [],
   "source": [
    "def print_card_stack(df_dict):\n",
    "    for card_type in df_dict:\n",
    "        print('Your %s:  %s'%(card_type, df_dict[card_type].sample().to_string(index=False)))\n",
    "    return 0\n",
    "\n",
    "def print_some_cards(n, assets):\n",
    "    for card_stack in range(0,n):\n",
    "        print('Stack %d'%(card_stack+1))\n",
    "        print_card_stack(assets)\n",
    "    return"
   ]
  },
  {
   "cell_type": "code",
   "execution_count": 122,
   "id": "fa928fb0-d4a9-4f1d-9005-d5f8d6138c85",
   "metadata": {},
   "outputs": [
    {
     "name": "stdout",
     "output_type": "stream",
     "text": [
      "Stack 1\n",
      "Your agent:  A pilot\n",
      "Your aspect:  Self-destructive\n",
      "Your engine:  Wants to create a distraction with\n",
      "Your anchor:  A dropship\n",
      "Your conflict:  But a deadly experiment will be released from containment\n",
      "Stack 2\n",
      "Your agent:  A programmer\n",
      "Your aspect:  Rich\n",
      "Your engine:  Wants to invent (or discover)\n",
      "Your anchor:  A hard drive\n",
      "Your conflict:  But it will cost them their last connection to humanity\n"
     ]
    }
   ],
   "source": [
    "print_some_cards(2,sf_assets)"
   ]
  },
  {
   "cell_type": "code",
   "execution_count": 125,
   "id": "7b3f1185-59cb-4d7e-85c9-8deab5a11a6f",
   "metadata": {},
   "outputs": [],
   "source": [
    "# def print_some_cards(n, card_set):\n",
    "#     print_strings = []\n",
    "#     for card_stack in range(0,n):\n",
    "#         print_strings[card_stack] = 'Stack %d'%(card_stack+1)\n",
    "#         print_card_stack(card_set)\n",
    "#     return 0"
   ]
  },
  {
   "cell_type": "code",
   "execution_count": 190,
   "id": "1ab5a58d-a6bd-4154-96b7-a64221b64f02",
   "metadata": {},
   "outputs": [],
   "source": [
    "def get_card_stack(df_dict, printer=False):\n",
    "    card_stack = {}\n",
    "    for card_type in df_dict:\n",
    "        card_stack[card_type] = df_dict[card_type].sample().to_string(index=False)\n",
    "    if printer:\n",
    "        for card_type in card_stack:\n",
    "            print('Your %s:  %s'%(card_type, card_stack[card_type]))\n",
    "    return card_stack"
   ]
  },
  {
   "cell_type": "code",
   "execution_count": 191,
   "id": "351d2c5f-7d72-4e60-81b1-4f8301ae24b1",
   "metadata": {},
   "outputs": [
    {
     "data": {
      "text/plain": [
       "{'agent': 'A terrorist',\n",
       " 'aspect': 'Radical',\n",
       " 'engine': 'Wants to make a major research breakthrough with/on',\n",
       " 'anchor': 'A drone',\n",
       " 'conflict': 'But it will mean giving up the chance to fix their biggest regret'}"
      ]
     },
     "execution_count": 191,
     "metadata": {},
     "output_type": "execute_result"
    }
   ],
   "source": [
    "get_card_stack(sf_assets)"
   ]
  },
  {
   "cell_type": "code",
   "execution_count": 141,
   "id": "e1169674-2164-46a3-aff7-ca66a3d0ab16",
   "metadata": {},
   "outputs": [],
   "source": [
    "card_stack= get_card_stack(sf_assets)\n",
    "# card_stack1\n"
   ]
  },
  {
   "cell_type": "code",
   "execution_count": 148,
   "id": "11071636-dc0b-42be-95bf-01b1d969a2e6",
   "metadata": {},
   "outputs": [
    {
     "name": "stdout",
     "output_type": "stream",
     "text": [
      "0\n",
      "1\n"
     ]
    }
   ],
   "source": [
    "card_batch = []\n",
    "for stack in range(0,n):\n",
    "    print(stack)\n",
    "    card_batch.append(get_card_stack(sf_assets))"
   ]
  },
  {
   "cell_type": "code",
   "execution_count": 149,
   "id": "b6909498-f66a-4228-8420-8f3c26dca62f",
   "metadata": {},
   "outputs": [
    {
     "data": {
      "text/plain": [
       "[{'agent': 'An astroid miner',\n",
       "  'aspect': 'Expanding',\n",
       "  'engine': 'Wants to track down',\n",
       "  'anchor': 'A cipher',\n",
       "  'conflict': 'But it will cause a rift amongst their allies'},\n",
       " {'agent': 'An operative',\n",
       "  'aspect': 'Secretive',\n",
       "  'engine': 'Wants to make a power grab with',\n",
       "  'anchor': 'A serum',\n",
       "  'conflict': 'But a criminal will go free'}]"
      ]
     },
     "execution_count": 149,
     "metadata": {},
     "output_type": "execute_result"
    }
   ],
   "source": [
    "card_batch"
   ]
  },
  {
   "cell_type": "code",
   "execution_count": 129,
   "id": "3b1d3b47-a892-44ac-a4f7-a1fc91a65e5b",
   "metadata": {},
   "outputs": [
    {
     "name": "stdout",
     "output_type": "stream",
     "text": [
      "Your agent:  A revolutionary\n",
      "Your aspect:  Time-manipulating\n",
      "Your engine:  wants to change the past of/with\n",
      "Your anchor:  A countdown\n",
      "Your conflict:  But it will unite their enemies\n"
     ]
    }
   ],
   "source": [
    "for card_type in card_stack1:\n",
    "    print('Your %s:  %s'%(card_type, card_stack1[card_type]))"
   ]
  },
  {
   "cell_type": "code",
   "execution_count": 188,
   "id": "991d572e-f7f8-44db-9334-3813f5bb5918",
   "metadata": {},
   "outputs": [],
   "source": [
    "def get_batch_cards(n, card_set, printer=False):\n",
    "    card_batch = []\n",
    "    for card_stack in range(0,n):\n",
    "        card_batch.append(get_card_stack(card_set))\n",
    "        \n",
    "    if printer:\n",
    "        for card_stack in range(0,len(card_batch)):\n",
    "            print('---------------')\n",
    "            print('Card Stack %d'%(card_stack+1))\n",
    "            print('---------------')\n",
    "            for key in card_batch[card_stack].keys():\n",
    "                print('Your %s: %s'%(key, card_batch[card_stack][key]))\n",
    "    return card_batch"
   ]
  },
  {
   "cell_type": "code",
   "execution_count": 192,
   "id": "e0517f6e-11fe-4b3a-98b7-cc6f013a4f18",
   "metadata": {},
   "outputs": [
    {
     "name": "stdout",
     "output_type": "stream",
     "text": [
      "---------------\n",
      "Card Stack 1\n",
      "---------------\n",
      "Your agent: An arms dealer\n",
      "Your aspect: Mobile\n",
      "Your engine: Wants to create a distraction with\n",
      "Your anchor: A drone\n",
      "Your conflict: But it will mean trusting someone who betrayed them\n",
      "---------------\n",
      "Card Stack 2\n",
      "---------------\n",
      "Your agent: A weapons specialist\n",
      "Your aspect: Anomalous\n",
      "Your engine: Wants to topple a government with\n",
      "Your anchor: A high-rise\n",
      "Your conflict: But it will cause a rift amongst their allies\n"
     ]
    },
    {
     "data": {
      "text/plain": [
       "[{'agent': 'An arms dealer',\n",
       "  'aspect': 'Mobile',\n",
       "  'engine': 'Wants to create a distraction with',\n",
       "  'anchor': 'A drone',\n",
       "  'conflict': 'But it will mean trusting someone who betrayed them'},\n",
       " {'agent': 'A weapons specialist',\n",
       "  'aspect': 'Anomalous',\n",
       "  'engine': 'Wants to topple a government with',\n",
       "  'anchor': 'A high-rise',\n",
       "  'conflict': 'But it will cause a rift amongst their allies'}]"
      ]
     },
     "execution_count": 192,
     "metadata": {},
     "output_type": "execute_result"
    }
   ],
   "source": [
    "get_batch_cards(2, sf_assets, printer=True)"
   ]
  },
  {
   "cell_type": "code",
   "execution_count": 157,
   "id": "d63a2b37-d249-4fef-b0f7-e745c55ebe33",
   "metadata": {},
   "outputs": [
    {
     "data": {
      "text/plain": [
       "[{'agent': 'A chrononaut',\n",
       "  'aspect': 'Unassuming',\n",
       "  'engine': 'Wants to restore the lost memory of',\n",
       "  'anchor': 'A time machine',\n",
       "  'conflict': 'But it will set a mass extermination in motion'},\n",
       " {'agent': 'A bartender',\n",
       "  'aspect': 'Self-destructive',\n",
       "  'engine': 'Wants to restore the lost memory of',\n",
       "  'anchor': 'A cipher',\n",
       "  'conflict': 'But it will mean trusting someone who betrayed them'}]"
      ]
     },
     "execution_count": 157,
     "metadata": {},
     "output_type": "execute_result"
    }
   ],
   "source": [
    "cb"
   ]
  },
  {
   "cell_type": "code",
   "execution_count": 160,
   "id": "baca11d2-9fe6-446f-88fe-161b8baf6bbe",
   "metadata": {},
   "outputs": [
    {
     "data": {
      "text/plain": [
       "'A cipher'"
      ]
     },
     "execution_count": 160,
     "metadata": {},
     "output_type": "execute_result"
    }
   ],
   "source": [
    "cb[1]['anchor']"
   ]
  },
  {
   "cell_type": "code",
   "execution_count": 166,
   "id": "50f4b741-bc74-4eea-8a9d-777964c75a00",
   "metadata": {},
   "outputs": [
    {
     "data": {
      "text/plain": [
       "dict_keys(['agent', 'aspect', 'engine', 'anchor', 'conflict'])"
      ]
     },
     "execution_count": 166,
     "metadata": {},
     "output_type": "execute_result"
    }
   ],
   "source": [
    "cb[1].keys()"
   ]
  },
  {
   "cell_type": "code",
   "execution_count": 172,
   "id": "fe98e128-915d-4fb9-9f8c-6c07b9bfaa37",
   "metadata": {},
   "outputs": [
    {
     "name": "stdout",
     "output_type": "stream",
     "text": [
      "---------------\n",
      "Card Stack 1\n",
      "---------------\n",
      "Your agent: A chrononaut\n",
      "Your aspect: Unassuming\n",
      "Your engine: Wants to restore the lost memory of\n",
      "Your anchor: A time machine\n",
      "Your conflict: But it will set a mass extermination in motion\n",
      "---------------\n",
      "Card Stack 2\n",
      "---------------\n",
      "Your agent: A bartender\n",
      "Your aspect: Self-destructive\n",
      "Your engine: Wants to restore the lost memory of\n",
      "Your anchor: A cipher\n",
      "Your conflict: But it will mean trusting someone who betrayed them\n"
     ]
    }
   ],
   "source": [
    "for card_stack in range(0,len(cb)):\n",
    "    print('---------------')\n",
    "    print('Card Stack %d'%(card_stack+1))\n",
    "    print('---------------')\n",
    "    for key in cb[card_stack].keys():\n",
    "        print('Your %s: %s'%(key, cb[card_stack][key]))"
   ]
  },
  {
   "cell_type": "code",
   "execution_count": 45,
   "id": "48485b16-956c-4d66-a56f-d83cc0288a13",
   "metadata": {},
   "outputs": [
    {
     "name": "stdout",
     "output_type": "stream",
     "text": [
      "Your agent:  A DJ\n",
      "Your engine:  Wants to perform an assassination of/with\n",
      "Your anchor:  A jetpack\n",
      "Your conflict:  But it will introduce a dangerous new technology to the world\n",
      "Your aspect:  Despotic\n"
     ]
    }
   ],
   "source": [
    "print_some_cards(sf_assets)"
   ]
  },
  {
   "cell_type": "code",
   "execution_count": 46,
   "id": "39fbf2c2-005e-42f9-9274-24c19f908d1c",
   "metadata": {
    "collapsed": true,
    "jupyter": {
     "outputs_hidden": true
    },
    "tags": []
   },
   "outputs": [
    {
     "name": "stdout",
     "output_type": "stream",
     "text": [
      "Your agent:  A comms operator\n",
      "Your engine:  Wants to make a weapon out of\n",
      "Your anchor:  An energy weapon\n",
      "Your conflict:  But it would mean giving up a fight\n",
      "Your aspect:  Hyper-Intelligent\n"
     ]
    }
   ],
   "source": [
    "print_some_cards(sf_assets)"
   ]
  },
  {
   "cell_type": "code",
   "execution_count": 47,
   "id": "24cabb43-fbe2-4d30-85c1-cd1623200fac",
   "metadata": {},
   "outputs": [
    {
     "name": "stdout",
     "output_type": "stream",
     "text": [
      "Your agent:  A heist leader\n",
      "Your engine:  Wants to restore the lost memory of\n",
      "Your anchor:  A machine part\n",
      "Your conflict:  But it will cause a rift amongst their allies\n",
      "Your aspect:  Digital\n"
     ]
    }
   ],
   "source": [
    "print_some_cards(sf_assets)"
   ]
  },
  {
   "cell_type": "markdown",
   "id": "c8696b0a-d7fc-49da-9ac9-bd8087bb3f7a",
   "metadata": {},
   "source": [
    "Some notes: should probably re-order so that aspect appears with the agent - also should probably get rid of the A/An in that list? Or create an agent/aspect combo."
   ]
  },
  {
   "cell_type": "code",
   "execution_count": 52,
   "id": "ad984ced-6913-482d-887c-d9daf02c5c1c",
   "metadata": {},
   "outputs": [
    {
     "name": "stdout",
     "output_type": "stream",
     "text": [
      "Your Aspect/Agent:  Unassuming  navigator\n"
     ]
    }
   ],
   "source": [
    "# for card_type in df_dict:\n",
    "this_agent = df_dict['agent'].sample().to_string(index=False).replace('A','').replace('An', '')\n",
    "this_aspect = df_dict['aspect'].sample().to_string(index=False)\n",
    "print('Your Aspect/Agent:  %s %s'%(this_aspect, this_agent))"
   ]
  },
  {
   "cell_type": "code",
   "execution_count": 203,
   "id": "95b0d975-e081-4a3b-81e0-00e95d9dcb67",
   "metadata": {},
   "outputs": [],
   "source": [
    "def card_set_tofile(card_batch):\n",
    "    card_set = open(fr'./card_set.txt','w')\n",
    "    \n",
    "    for card_stack in range(0,len(card_batch)):\n",
    "            card_set.writelines('---------------\\n')\n",
    "            card_set.writelines('Card Stack %d\\n'%(card_stack+1))\n",
    "            card_set.writelines('---------------\\n')\n",
    "            for key in card_batch[card_stack].keys():\n",
    "                card_set.writelines('Your %s: %s\\n'%(key, card_batch[card_stack][key]))\n",
    "    card_set.close()\n",
    "\n",
    "    return 0"
   ]
  },
  {
   "cell_type": "code",
   "execution_count": 197,
   "id": "8815ad74-5cf3-4859-9f5e-b82b2878933e",
   "metadata": {},
   "outputs": [],
   "source": [
    "b1 = get_batch_cards(3, sf_assets)"
   ]
  },
  {
   "cell_type": "code",
   "execution_count": 204,
   "id": "63412afb-31f2-494e-84b3-bf8266b4f7bc",
   "metadata": {},
   "outputs": [],
   "source": [
    "# b1"
   ]
  },
  {
   "cell_type": "code",
   "execution_count": 206,
   "id": "1768b2da-f5ba-4a83-bd5d-2abaa019c9ff",
   "metadata": {},
   "outputs": [
    {
     "data": {
      "text/plain": [
       "0"
      ]
     },
     "execution_count": 206,
     "metadata": {},
     "output_type": "execute_result"
    }
   ],
   "source": [
    "card_set_tofile(b1)"
   ]
  },
  {
   "cell_type": "code",
   "execution_count": 90,
   "id": "e204f776-d2df-46c1-9def-1a7e7983d236",
   "metadata": {},
   "outputs": [
    {
     "name": "stdout",
     "output_type": "stream",
     "text": [
      "Your agent:  A pilot\n",
      "Your aspect:  Smart\n",
      "Your engine:  Wants to arrange the release of\n",
      "Your anchor:  An algorithm\n",
      "Your conflict:  But it will mean giving up the chance to fix their biggest regret\n"
     ]
    },
    {
     "ename": "TypeError",
     "evalue": "'int' object is not iterable",
     "output_type": "error",
     "traceback": [
      "\u001b[0;31m---------------------------------------------------------------------------\u001b[0m",
      "\u001b[0;31mTypeError\u001b[0m                                 Traceback (most recent call last)",
      "\u001b[0;32m/tmp/ipykernel_66219/2662963796.py\u001b[0m in \u001b[0;36m<module>\u001b[0;34m\u001b[0m\n\u001b[1;32m      3\u001b[0m \u001b[0;32mfor\u001b[0m \u001b[0mcard_stack\u001b[0m \u001b[0;32min\u001b[0m \u001b[0mrange\u001b[0m\u001b[0;34m(\u001b[0m\u001b[0;36m0\u001b[0m\u001b[0;34m,\u001b[0m\u001b[0mn\u001b[0m\u001b[0;34m)\u001b[0m\u001b[0;34m:\u001b[0m\u001b[0;34m\u001b[0m\u001b[0;34m\u001b[0m\u001b[0m\n\u001b[1;32m      4\u001b[0m     \u001b[0mcard_set\u001b[0m\u001b[0;34m.\u001b[0m\u001b[0mwritelines\u001b[0m\u001b[0;34m(\u001b[0m\u001b[0;34m'Stack %d'\u001b[0m\u001b[0;34m%\u001b[0m\u001b[0;34m(\u001b[0m\u001b[0mcard_stack\u001b[0m\u001b[0;34m+\u001b[0m\u001b[0;36m1\u001b[0m\u001b[0;34m)\u001b[0m\u001b[0;34m)\u001b[0m\u001b[0;34m\u001b[0m\u001b[0;34m\u001b[0m\u001b[0m\n\u001b[0;32m----> 5\u001b[0;31m     \u001b[0mcard_set\u001b[0m\u001b[0;34m.\u001b[0m\u001b[0mwritelines\u001b[0m\u001b[0;34m(\u001b[0m\u001b[0mprint_card_stack\u001b[0m\u001b[0;34m(\u001b[0m\u001b[0msf_assets\u001b[0m\u001b[0;34m)\u001b[0m\u001b[0;34m)\u001b[0m\u001b[0;34m\u001b[0m\u001b[0;34m\u001b[0m\u001b[0m\n\u001b[0m\u001b[1;32m      6\u001b[0m \u001b[0mcard_set\u001b[0m\u001b[0;34m.\u001b[0m\u001b[0mclose\u001b[0m\u001b[0;34m(\u001b[0m\u001b[0;34m)\u001b[0m\u001b[0;34m\u001b[0m\u001b[0;34m\u001b[0m\u001b[0m\n",
      "\u001b[0;31mTypeError\u001b[0m: 'int' object is not iterable"
     ]
    }
   ],
   "source": [
    "n = 2\n",
    "card_set = open(fr'./card_set.txt','w')\n",
    "for card_stack in range(0,n):\n",
    "    card_set.writelines('Stack %d'%(card_stack+1))\n",
    "    card_set.writelines(print_card_stack(sf_assets))\n",
    "card_set.close()"
   ]
  },
  {
   "cell_type": "code",
   "execution_count": null,
   "id": "1e29e7f3-0e36-4d1b-8cd6-27825878fdde",
   "metadata": {},
   "outputs": [],
   "source": []
  }
 ],
 "metadata": {
  "kernelspec": {
   "display_name": "Python 3 (ipykernel)",
   "language": "python",
   "name": "python3"
  },
  "language_info": {
   "codemirror_mode": {
    "name": "ipython",
    "version": 3
   },
   "file_extension": ".py",
   "mimetype": "text/x-python",
   "name": "python",
   "nbconvert_exporter": "python",
   "pygments_lexer": "ipython3",
   "version": "3.9.2"
  }
 },
 "nbformat": 4,
 "nbformat_minor": 5
}
